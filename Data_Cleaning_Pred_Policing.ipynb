{
  "nbformat": 4,
  "nbformat_minor": 0,
  "metadata": {
    "colab": {
      "name": "Data_Cleaning_Pred_Policing",
      "provenance": [],
      "collapsed_sections": []
    },
    "kernelspec": {
      "name": "python3",
      "display_name": "Python 3"
    },
    "language_info": {
      "name": "python"
    }
  },
  "cells": [
    {
      "cell_type": "code",
      "source": [
        "from google.colab import drive\n",
        "drive.mount('/content/drive')\n",
        "!ls \"/content/drive/My Drive/Crime_Data\"\n",
        "!ls"
      ],
      "metadata": {
        "colab": {
          "base_uri": "https://localhost:8080/"
        },
        "id": "5Cr7PiTHjPMg",
        "outputId": "027221a8-23ad-4785-a79f-c410e52d4f2a"
      },
      "execution_count": 1,
      "outputs": [
        {
          "output_type": "stream",
          "name": "stdout",
          "text": [
            "Mounted at /content/drive\n",
            "Boston.csv  Los_Angeles.csv  San_Fransisco.csv\tSeattle.csv\n",
            "Boston.csv  drive  Los_Angeles.csv  sample_data  San_Fransisco.csv  Seattle.csv\n"
          ]
        }
      ]
    },
    {
      "cell_type": "code",
      "execution_count": 2,
      "metadata": {
        "colab": {
          "base_uri": "https://localhost:8080/"
        },
        "id": "rLYLrNvdiavz",
        "outputId": "1eb5c8cc-e89a-49f7-ed08-a0141c7cf103"
      },
      "outputs": [
        {
          "output_type": "stream",
          "name": "stderr",
          "text": [
            "/usr/local/lib/python3.7/dist-packages/IPython/core/interactiveshell.py:2882: DtypeWarning: Columns (0,2,6,12) have mixed types.Specify dtype option on import or set low_memory=False.\n",
            "  exec(code_obj, self.user_global_ns, self.user_ns)\n"
          ]
        }
      ],
      "source": [
        "import pandas as pd\n",
        "\n",
        "df_boston = pd.read_csv(\"/content/drive/My Drive/Crime_Data/Boston.csv\")\n",
        "df_Los_Angeles = pd.read_csv(\"/content/drive/My Drive/Crime_Data/Los_Angeles.csv\")\n",
        "df_San_Fransisco = pd.read_csv(\"/content/drive/My Drive/Crime_Data/San_Fransisco.csv\")\n",
        "df_Seattle = pd.read_csv(\"/content/drive/My Drive/Crime_Data/Seattle.csv\")"
      ]
    },
    {
      "cell_type": "code",
      "source": [
        "df_boston.shape"
      ],
      "metadata": {
        "colab": {
          "base_uri": "https://localhost:8080/"
        },
        "id": "_gYb4uackJE3",
        "outputId": "d0b8413c-5deb-4763-d208-d96f7237ce13"
      },
      "execution_count": 3,
      "outputs": [
        {
          "output_type": "execute_result",
          "data": {
            "text/plain": [
              "(359035, 17)"
            ]
          },
          "metadata": {},
          "execution_count": 3
        }
      ]
    },
    {
      "cell_type": "code",
      "source": [
        "df_Los_Angeles.shape"
      ],
      "metadata": {
        "colab": {
          "base_uri": "https://localhost:8080/"
        },
        "id": "M_Bdacb0kLmb",
        "outputId": "61d7a027-f0cb-40ad-dbfe-9e6b81e582e2"
      },
      "execution_count": 4,
      "outputs": [
        {
          "output_type": "execute_result",
          "data": {
            "text/plain": [
              "(495410, 28)"
            ]
          },
          "metadata": {},
          "execution_count": 4
        }
      ]
    },
    {
      "cell_type": "code",
      "source": [
        "df_San_Fransisco.shape"
      ],
      "metadata": {
        "colab": {
          "base_uri": "https://localhost:8080/"
        },
        "id": "O0VCVkfhkNWF",
        "outputId": "85db225b-8f0b-45cb-ca45-17a0254b049c"
      },
      "execution_count": 5,
      "outputs": [
        {
          "output_type": "execute_result",
          "data": {
            "text/plain": [
              "(598515, 34)"
            ]
          },
          "metadata": {},
          "execution_count": 5
        }
      ]
    },
    {
      "cell_type": "code",
      "source": [
        "df_Seattle.shape"
      ],
      "metadata": {
        "colab": {
          "base_uri": "https://localhost:8080/"
        },
        "id": "ZIokwdD2kNSn",
        "outputId": "f1c7c6d2-bcb5-4b01-a11a-7dda9f523b5b"
      },
      "execution_count": 6,
      "outputs": [
        {
          "output_type": "execute_result",
          "data": {
            "text/plain": [
              "(982779, 17)"
            ]
          },
          "metadata": {},
          "execution_count": 6
        }
      ]
    },
    {
      "cell_type": "markdown",
      "source": [
        "# Data Cleaning"
      ],
      "metadata": {
        "id": "xcmsJCMokkIy"
      }
    },
    {
      "cell_type": "code",
      "source": [
        "#df_San_Fransisco.describe()\n",
        "#df_San_Fransisco.info()\n",
        "df_San_Fransisco.columns"
      ],
      "metadata": {
        "colab": {
          "base_uri": "https://localhost:8080/"
        },
        "id": "MQ4FHYbXkjc9",
        "outputId": "8013be0d-b04f-4ba7-dc5f-b1e10905749a"
      },
      "execution_count": 7,
      "outputs": [
        {
          "output_type": "execute_result",
          "data": {
            "text/plain": [
              "Index(['Incident Datetime', 'Incident Date', 'Incident Time', 'Incident Year',\n",
              "       'Incident Day of Week', 'Report Datetime', 'Row ID', 'Incident ID',\n",
              "       'Incident Number', 'CAD Number', 'Report Type Code',\n",
              "       'Report Type Description', 'Filed Online', 'Incident Code',\n",
              "       'Incident Category', 'Incident Subcategory', 'Incident Description',\n",
              "       'Resolution', 'Intersection', 'CNN', 'Police District',\n",
              "       'Analysis Neighborhood', 'Supervisor District', 'Latitude', 'Longitude',\n",
              "       'Point', 'Neighborhoods', 'ESNCAG - Boundary File',\n",
              "       'Central Market/Tenderloin Boundary Polygon - Updated',\n",
              "       'Civic Center Harm Reduction Project Boundary',\n",
              "       'HSOC Zones as of 2018-06-05', 'Invest In Neighborhoods (IIN) Areas',\n",
              "       'Current Supervisor Districts', 'Current Police Districts'],\n",
              "      dtype='object')"
            ]
          },
          "metadata": {},
          "execution_count": 7
        }
      ]
    },
    {
      "cell_type": "code",
      "source": [
        "df_San_Fransisco = df_San_Fransisco[['Incident Datetime', 'Incident Date', 'Incident Time', 'Incident Year', 'Incident Number', 'Incident Day of Week', \n",
        "                                     'Incident Category', 'Intersection', 'Latitude', 'Longitude']]"
      ],
      "metadata": {
        "id": "kgyB98XQky34"
      },
      "execution_count": 8,
      "outputs": []
    },
    {
      "cell_type": "code",
      "source": [
        "df_San_Fransisco.rename(\n",
        "    columns={\"Incident Datetime\":\"date_time\",\n",
        "              \"Incident Date\":\"date\",\n",
        "              \"Incident Time\":\"time\",\n",
        "              \"Incident Year\":\"year\",\n",
        "              \"Incident Number\":\"id\",\n",
        "              \"Incident Day of Week\":\"dow\",\n",
        "              \"Incident Category\":\"cat\",\n",
        "              \"Intersection\":\"address\",\n",
        "              \"Latitude\":\"lat\",\n",
        "              \"Longitude\":\"long\",},\n",
        "      inplace=True)"
      ],
      "metadata": {
        "id": "1TikuV9I7wKn"
      },
      "execution_count": 9,
      "outputs": []
    },
    {
      "cell_type": "code",
      "source": [
        "df_San_Fransisco['month'] = pd.DatetimeIndex(df_San_Fransisco['date_time']).month\n",
        "df_San_Fransisco.head()"
      ],
      "metadata": {
        "colab": {
          "base_uri": "https://localhost:8080/",
          "height": 337
        },
        "id": "GaqcwPa7DJvF",
        "outputId": "e8317a41-720e-4589-d08a-0c67ddca26e9"
      },
      "execution_count": 10,
      "outputs": [
        {
          "output_type": "execute_result",
          "data": {
            "text/plain": [
              "                date_time        date   time  year         id        dow  \\\n",
              "0  2019/03/05 09:00:00 PM  2019/03/05  21:00  2019  196048512    Tuesday   \n",
              "1  2018/12/22 12:00:00 PM  2018/12/22  12:00  2018  180971777   Saturday   \n",
              "2  2018/08/24 05:30:00 PM  2018/08/24  17:30  2018  180639339     Friday   \n",
              "3  2018/10/20 03:10:00 PM  2018/10/20  15:10  2018  180624631   Saturday   \n",
              "4  2019/06/05 12:36:00 AM  2019/06/05  00:36  2019  190403077  Wednesday   \n",
              "\n",
              "                   cat                              address        lat  \\\n",
              "0        Larceny Theft  UNITED NATIONS PLZ \\ LEAVENWORTH ST  37.779992   \n",
              "1  Motor Vehicle Theft              LINDEN ST \\ BUCHANAN ST  37.775787   \n",
              "2        Larceny Theft                PERU AVE \\ BURROWS ST  37.723944   \n",
              "3              Warrant              BOARDMAN PL \\ BRYANT ST  37.775161   \n",
              "4       Other Offenses               LOMBARD ST \\ NEWELL ST  37.802755   \n",
              "\n",
              "         long  month  \n",
              "0 -122.413487      3  \n",
              "1 -122.427819     12  \n",
              "2 -122.422830      8  \n",
              "3 -122.403636     10  \n",
              "4 -122.413623      6  "
            ],
            "text/html": [
              "\n",
              "  <div id=\"df-4aa396bd-744a-433e-9b27-0bc3f7ce2733\">\n",
              "    <div class=\"colab-df-container\">\n",
              "      <div>\n",
              "<style scoped>\n",
              "    .dataframe tbody tr th:only-of-type {\n",
              "        vertical-align: middle;\n",
              "    }\n",
              "\n",
              "    .dataframe tbody tr th {\n",
              "        vertical-align: top;\n",
              "    }\n",
              "\n",
              "    .dataframe thead th {\n",
              "        text-align: right;\n",
              "    }\n",
              "</style>\n",
              "<table border=\"1\" class=\"dataframe\">\n",
              "  <thead>\n",
              "    <tr style=\"text-align: right;\">\n",
              "      <th></th>\n",
              "      <th>date_time</th>\n",
              "      <th>date</th>\n",
              "      <th>time</th>\n",
              "      <th>year</th>\n",
              "      <th>id</th>\n",
              "      <th>dow</th>\n",
              "      <th>cat</th>\n",
              "      <th>address</th>\n",
              "      <th>lat</th>\n",
              "      <th>long</th>\n",
              "      <th>month</th>\n",
              "    </tr>\n",
              "  </thead>\n",
              "  <tbody>\n",
              "    <tr>\n",
              "      <th>0</th>\n",
              "      <td>2019/03/05 09:00:00 PM</td>\n",
              "      <td>2019/03/05</td>\n",
              "      <td>21:00</td>\n",
              "      <td>2019</td>\n",
              "      <td>196048512</td>\n",
              "      <td>Tuesday</td>\n",
              "      <td>Larceny Theft</td>\n",
              "      <td>UNITED NATIONS PLZ \\ LEAVENWORTH ST</td>\n",
              "      <td>37.779992</td>\n",
              "      <td>-122.413487</td>\n",
              "      <td>3</td>\n",
              "    </tr>\n",
              "    <tr>\n",
              "      <th>1</th>\n",
              "      <td>2018/12/22 12:00:00 PM</td>\n",
              "      <td>2018/12/22</td>\n",
              "      <td>12:00</td>\n",
              "      <td>2018</td>\n",
              "      <td>180971777</td>\n",
              "      <td>Saturday</td>\n",
              "      <td>Motor Vehicle Theft</td>\n",
              "      <td>LINDEN ST \\ BUCHANAN ST</td>\n",
              "      <td>37.775787</td>\n",
              "      <td>-122.427819</td>\n",
              "      <td>12</td>\n",
              "    </tr>\n",
              "    <tr>\n",
              "      <th>2</th>\n",
              "      <td>2018/08/24 05:30:00 PM</td>\n",
              "      <td>2018/08/24</td>\n",
              "      <td>17:30</td>\n",
              "      <td>2018</td>\n",
              "      <td>180639339</td>\n",
              "      <td>Friday</td>\n",
              "      <td>Larceny Theft</td>\n",
              "      <td>PERU AVE \\ BURROWS ST</td>\n",
              "      <td>37.723944</td>\n",
              "      <td>-122.422830</td>\n",
              "      <td>8</td>\n",
              "    </tr>\n",
              "    <tr>\n",
              "      <th>3</th>\n",
              "      <td>2018/10/20 03:10:00 PM</td>\n",
              "      <td>2018/10/20</td>\n",
              "      <td>15:10</td>\n",
              "      <td>2018</td>\n",
              "      <td>180624631</td>\n",
              "      <td>Saturday</td>\n",
              "      <td>Warrant</td>\n",
              "      <td>BOARDMAN PL \\ BRYANT ST</td>\n",
              "      <td>37.775161</td>\n",
              "      <td>-122.403636</td>\n",
              "      <td>10</td>\n",
              "    </tr>\n",
              "    <tr>\n",
              "      <th>4</th>\n",
              "      <td>2019/06/05 12:36:00 AM</td>\n",
              "      <td>2019/06/05</td>\n",
              "      <td>00:36</td>\n",
              "      <td>2019</td>\n",
              "      <td>190403077</td>\n",
              "      <td>Wednesday</td>\n",
              "      <td>Other Offenses</td>\n",
              "      <td>LOMBARD ST \\ NEWELL ST</td>\n",
              "      <td>37.802755</td>\n",
              "      <td>-122.413623</td>\n",
              "      <td>6</td>\n",
              "    </tr>\n",
              "  </tbody>\n",
              "</table>\n",
              "</div>\n",
              "      <button class=\"colab-df-convert\" onclick=\"convertToInteractive('df-4aa396bd-744a-433e-9b27-0bc3f7ce2733')\"\n",
              "              title=\"Convert this dataframe to an interactive table.\"\n",
              "              style=\"display:none;\">\n",
              "        \n",
              "  <svg xmlns=\"http://www.w3.org/2000/svg\" height=\"24px\"viewBox=\"0 0 24 24\"\n",
              "       width=\"24px\">\n",
              "    <path d=\"M0 0h24v24H0V0z\" fill=\"none\"/>\n",
              "    <path d=\"M18.56 5.44l.94 2.06.94-2.06 2.06-.94-2.06-.94-.94-2.06-.94 2.06-2.06.94zm-11 1L8.5 8.5l.94-2.06 2.06-.94-2.06-.94L8.5 2.5l-.94 2.06-2.06.94zm10 10l.94 2.06.94-2.06 2.06-.94-2.06-.94-.94-2.06-.94 2.06-2.06.94z\"/><path d=\"M17.41 7.96l-1.37-1.37c-.4-.4-.92-.59-1.43-.59-.52 0-1.04.2-1.43.59L10.3 9.45l-7.72 7.72c-.78.78-.78 2.05 0 2.83L4 21.41c.39.39.9.59 1.41.59.51 0 1.02-.2 1.41-.59l7.78-7.78 2.81-2.81c.8-.78.8-2.07 0-2.86zM5.41 20L4 18.59l7.72-7.72 1.47 1.35L5.41 20z\"/>\n",
              "  </svg>\n",
              "      </button>\n",
              "      \n",
              "  <style>\n",
              "    .colab-df-container {\n",
              "      display:flex;\n",
              "      flex-wrap:wrap;\n",
              "      gap: 12px;\n",
              "    }\n",
              "\n",
              "    .colab-df-convert {\n",
              "      background-color: #E8F0FE;\n",
              "      border: none;\n",
              "      border-radius: 50%;\n",
              "      cursor: pointer;\n",
              "      display: none;\n",
              "      fill: #1967D2;\n",
              "      height: 32px;\n",
              "      padding: 0 0 0 0;\n",
              "      width: 32px;\n",
              "    }\n",
              "\n",
              "    .colab-df-convert:hover {\n",
              "      background-color: #E2EBFA;\n",
              "      box-shadow: 0px 1px 2px rgba(60, 64, 67, 0.3), 0px 1px 3px 1px rgba(60, 64, 67, 0.15);\n",
              "      fill: #174EA6;\n",
              "    }\n",
              "\n",
              "    [theme=dark] .colab-df-convert {\n",
              "      background-color: #3B4455;\n",
              "      fill: #D2E3FC;\n",
              "    }\n",
              "\n",
              "    [theme=dark] .colab-df-convert:hover {\n",
              "      background-color: #434B5C;\n",
              "      box-shadow: 0px 1px 3px 1px rgba(0, 0, 0, 0.15);\n",
              "      filter: drop-shadow(0px 1px 2px rgba(0, 0, 0, 0.3));\n",
              "      fill: #FFFFFF;\n",
              "    }\n",
              "  </style>\n",
              "\n",
              "      <script>\n",
              "        const buttonEl =\n",
              "          document.querySelector('#df-4aa396bd-744a-433e-9b27-0bc3f7ce2733 button.colab-df-convert');\n",
              "        buttonEl.style.display =\n",
              "          google.colab.kernel.accessAllowed ? 'block' : 'none';\n",
              "\n",
              "        async function convertToInteractive(key) {\n",
              "          const element = document.querySelector('#df-4aa396bd-744a-433e-9b27-0bc3f7ce2733');\n",
              "          const dataTable =\n",
              "            await google.colab.kernel.invokeFunction('convertToInteractive',\n",
              "                                                     [key], {});\n",
              "          if (!dataTable) return;\n",
              "\n",
              "          const docLinkHtml = 'Like what you see? Visit the ' +\n",
              "            '<a target=\"_blank\" href=https://colab.research.google.com/notebooks/data_table.ipynb>data table notebook</a>'\n",
              "            + ' to learn more about interactive tables.';\n",
              "          element.innerHTML = '';\n",
              "          dataTable['output_type'] = 'display_data';\n",
              "          await google.colab.output.renderOutput(dataTable, element);\n",
              "          const docLink = document.createElement('div');\n",
              "          docLink.innerHTML = docLinkHtml;\n",
              "          element.appendChild(docLink);\n",
              "        }\n",
              "      </script>\n",
              "    </div>\n",
              "  </div>\n",
              "  "
            ]
          },
          "metadata": {},
          "execution_count": 10
        }
      ]
    },
    {
      "cell_type": "code",
      "source": [
        "df_San_Fransisco\n",
        "df_San_Fransisco.to_csv('San_Fransisco.csv', index=False)"
      ],
      "metadata": {
        "id": "a3go4rCi1fOm"
      },
      "execution_count": 11,
      "outputs": []
    },
    {
      "cell_type": "code",
      "source": [
        "df_San_Fransisco.shape"
      ],
      "metadata": {
        "colab": {
          "base_uri": "https://localhost:8080/"
        },
        "id": "W1Pe_dK5l_hA",
        "outputId": "c08cba99-a312-4ce0-92d8-1d9cfbeaa200"
      },
      "execution_count": 12,
      "outputs": [
        {
          "output_type": "execute_result",
          "data": {
            "text/plain": [
              "(598515, 11)"
            ]
          },
          "metadata": {},
          "execution_count": 12
        }
      ]
    },
    {
      "cell_type": "code",
      "source": [
        "df_Los_Angeles = df_Los_Angeles[['DR_NO', 'Date Rptd', 'TIME OCC','Crm Cd Desc','LOCATION', 'LAT','LON']]"
      ],
      "metadata": {
        "id": "BL68GEj5z8hV"
      },
      "execution_count": null,
      "outputs": []
    },
    {
      "cell_type": "code",
      "source": [
        "df_Los_Angeles.rename(\n",
        "    columns={\"Date Rptd\":\"date_time\",\n",
        "              \"TIME OCC\":\"time\",\n",
        "              \"DR_NO\":\"id\",\n",
        "              \"Crm Cd Desc\":\"cat\",\n",
        "              \"LOCATION\":\"address\",\n",
        "              \"LAT\":\"lat\",\n",
        "              \"LON\":\"long\",},\n",
        "      inplace=True)"
      ],
      "metadata": {
        "colab": {
          "base_uri": "https://localhost:8080/"
        },
        "id": "U7Cy4utg91Mm",
        "outputId": "7421584d-6062-49c0-97be-2e1bd501541a"
      },
      "execution_count": null,
      "outputs": [
        {
          "output_type": "stream",
          "name": "stderr",
          "text": [
            "/usr/local/lib/python3.7/dist-packages/pandas/core/frame.py:5047: SettingWithCopyWarning: \n",
            "A value is trying to be set on a copy of a slice from a DataFrame\n",
            "\n",
            "See the caveats in the documentation: https://pandas.pydata.org/pandas-docs/stable/user_guide/indexing.html#returning-a-view-versus-a-copy\n",
            "  errors=errors,\n"
          ]
        }
      ]
    },
    {
      "cell_type": "code",
      "source": [
        "df_Los_Angeles['date'] = pd.DatetimeIndex(df_Los_Angeles['date_time']).date\n",
        "df_Los_Angeles['month'] = pd.DatetimeIndex(df_Los_Angeles['date_time']).month\n",
        "df_Los_Angeles['year'] = pd.DatetimeIndex(df_Los_Angeles['date_time']).year\n",
        "df_Los_Angeles['dow'] = pd.to_datetime(df_Los_Angeles['date_time']).dt.day_name()\n",
        "\n",
        "#df_Los_Angeles['time'] = pd.DatetimeIndex(df_Los_Angeles['time']).time\n",
        "\n",
        "df_Los_Angeles.head()"
      ],
      "metadata": {
        "colab": {
          "base_uri": "https://localhost:8080/",
          "height": 337
        },
        "id": "8rx6qwx1GQ9_",
        "outputId": "96956b94-04a5-450d-93b1-c86c7821108c"
      },
      "execution_count": null,
      "outputs": [
        {
          "output_type": "execute_result",
          "data": {
            "text/plain": [
              "          id               date_time  time  \\\n",
              "0   10304468  01/08/2020 12:00:00 AM  2230   \n",
              "1  190101086  01/02/2020 12:00:00 AM   330   \n",
              "2  191501505  01/01/2020 12:00:00 AM  1730   \n",
              "3  191921269  01/01/2020 12:00:00 AM   415   \n",
              "4  200100501  01/02/2020 12:00:00 AM    30   \n",
              "\n",
              "                                                 cat  \\\n",
              "0                           BATTERY - SIMPLE ASSAULT   \n",
              "1                           BATTERY - SIMPLE ASSAULT   \n",
              "2           VANDALISM - MISDEAMEANOR ($399 OR UNDER)   \n",
              "3  VANDALISM - FELONY ($400 & OVER, ALL CHURCH VA...   \n",
              "4                                     RAPE, FORCIBLE   \n",
              "\n",
              "                                    address      lat      long        date  \\\n",
              "0   1100 W  39TH                         PL  34.0141 -118.2978  2020-01-08   \n",
              "1    700 S  HILL                         ST  34.0459 -118.2545  2020-01-02   \n",
              "2   5400    CORTEEN                      PL  34.1685 -118.4019  2020-01-01   \n",
              "3  14400    TITUS                        ST  34.2198 -118.4468  2020-01-01   \n",
              "4                           700 S  BROADWAY  34.0452 -118.2534  2020-01-02   \n",
              "\n",
              "   month  year        dow  \n",
              "0      1  2020  Wednesday  \n",
              "1      1  2020   Thursday  \n",
              "2      1  2020  Wednesday  \n",
              "3      1  2020  Wednesday  \n",
              "4      1  2020   Thursday  "
            ],
            "text/html": [
              "\n",
              "  <div id=\"df-5589dd9a-1da3-4788-a305-a5cc89d01377\">\n",
              "    <div class=\"colab-df-container\">\n",
              "      <div>\n",
              "<style scoped>\n",
              "    .dataframe tbody tr th:only-of-type {\n",
              "        vertical-align: middle;\n",
              "    }\n",
              "\n",
              "    .dataframe tbody tr th {\n",
              "        vertical-align: top;\n",
              "    }\n",
              "\n",
              "    .dataframe thead th {\n",
              "        text-align: right;\n",
              "    }\n",
              "</style>\n",
              "<table border=\"1\" class=\"dataframe\">\n",
              "  <thead>\n",
              "    <tr style=\"text-align: right;\">\n",
              "      <th></th>\n",
              "      <th>id</th>\n",
              "      <th>date_time</th>\n",
              "      <th>time</th>\n",
              "      <th>cat</th>\n",
              "      <th>address</th>\n",
              "      <th>lat</th>\n",
              "      <th>long</th>\n",
              "      <th>date</th>\n",
              "      <th>month</th>\n",
              "      <th>year</th>\n",
              "      <th>dow</th>\n",
              "    </tr>\n",
              "  </thead>\n",
              "  <tbody>\n",
              "    <tr>\n",
              "      <th>0</th>\n",
              "      <td>10304468</td>\n",
              "      <td>01/08/2020 12:00:00 AM</td>\n",
              "      <td>2230</td>\n",
              "      <td>BATTERY - SIMPLE ASSAULT</td>\n",
              "      <td>1100 W  39TH                         PL</td>\n",
              "      <td>34.0141</td>\n",
              "      <td>-118.2978</td>\n",
              "      <td>2020-01-08</td>\n",
              "      <td>1</td>\n",
              "      <td>2020</td>\n",
              "      <td>Wednesday</td>\n",
              "    </tr>\n",
              "    <tr>\n",
              "      <th>1</th>\n",
              "      <td>190101086</td>\n",
              "      <td>01/02/2020 12:00:00 AM</td>\n",
              "      <td>330</td>\n",
              "      <td>BATTERY - SIMPLE ASSAULT</td>\n",
              "      <td>700 S  HILL                         ST</td>\n",
              "      <td>34.0459</td>\n",
              "      <td>-118.2545</td>\n",
              "      <td>2020-01-02</td>\n",
              "      <td>1</td>\n",
              "      <td>2020</td>\n",
              "      <td>Thursday</td>\n",
              "    </tr>\n",
              "    <tr>\n",
              "      <th>2</th>\n",
              "      <td>191501505</td>\n",
              "      <td>01/01/2020 12:00:00 AM</td>\n",
              "      <td>1730</td>\n",
              "      <td>VANDALISM - MISDEAMEANOR ($399 OR UNDER)</td>\n",
              "      <td>5400    CORTEEN                      PL</td>\n",
              "      <td>34.1685</td>\n",
              "      <td>-118.4019</td>\n",
              "      <td>2020-01-01</td>\n",
              "      <td>1</td>\n",
              "      <td>2020</td>\n",
              "      <td>Wednesday</td>\n",
              "    </tr>\n",
              "    <tr>\n",
              "      <th>3</th>\n",
              "      <td>191921269</td>\n",
              "      <td>01/01/2020 12:00:00 AM</td>\n",
              "      <td>415</td>\n",
              "      <td>VANDALISM - FELONY ($400 &amp; OVER, ALL CHURCH VA...</td>\n",
              "      <td>14400    TITUS                        ST</td>\n",
              "      <td>34.2198</td>\n",
              "      <td>-118.4468</td>\n",
              "      <td>2020-01-01</td>\n",
              "      <td>1</td>\n",
              "      <td>2020</td>\n",
              "      <td>Wednesday</td>\n",
              "    </tr>\n",
              "    <tr>\n",
              "      <th>4</th>\n",
              "      <td>200100501</td>\n",
              "      <td>01/02/2020 12:00:00 AM</td>\n",
              "      <td>30</td>\n",
              "      <td>RAPE, FORCIBLE</td>\n",
              "      <td>700 S  BROADWAY</td>\n",
              "      <td>34.0452</td>\n",
              "      <td>-118.2534</td>\n",
              "      <td>2020-01-02</td>\n",
              "      <td>1</td>\n",
              "      <td>2020</td>\n",
              "      <td>Thursday</td>\n",
              "    </tr>\n",
              "  </tbody>\n",
              "</table>\n",
              "</div>\n",
              "      <button class=\"colab-df-convert\" onclick=\"convertToInteractive('df-5589dd9a-1da3-4788-a305-a5cc89d01377')\"\n",
              "              title=\"Convert this dataframe to an interactive table.\"\n",
              "              style=\"display:none;\">\n",
              "        \n",
              "  <svg xmlns=\"http://www.w3.org/2000/svg\" height=\"24px\"viewBox=\"0 0 24 24\"\n",
              "       width=\"24px\">\n",
              "    <path d=\"M0 0h24v24H0V0z\" fill=\"none\"/>\n",
              "    <path d=\"M18.56 5.44l.94 2.06.94-2.06 2.06-.94-2.06-.94-.94-2.06-.94 2.06-2.06.94zm-11 1L8.5 8.5l.94-2.06 2.06-.94-2.06-.94L8.5 2.5l-.94 2.06-2.06.94zm10 10l.94 2.06.94-2.06 2.06-.94-2.06-.94-.94-2.06-.94 2.06-2.06.94z\"/><path d=\"M17.41 7.96l-1.37-1.37c-.4-.4-.92-.59-1.43-.59-.52 0-1.04.2-1.43.59L10.3 9.45l-7.72 7.72c-.78.78-.78 2.05 0 2.83L4 21.41c.39.39.9.59 1.41.59.51 0 1.02-.2 1.41-.59l7.78-7.78 2.81-2.81c.8-.78.8-2.07 0-2.86zM5.41 20L4 18.59l7.72-7.72 1.47 1.35L5.41 20z\"/>\n",
              "  </svg>\n",
              "      </button>\n",
              "      \n",
              "  <style>\n",
              "    .colab-df-container {\n",
              "      display:flex;\n",
              "      flex-wrap:wrap;\n",
              "      gap: 12px;\n",
              "    }\n",
              "\n",
              "    .colab-df-convert {\n",
              "      background-color: #E8F0FE;\n",
              "      border: none;\n",
              "      border-radius: 50%;\n",
              "      cursor: pointer;\n",
              "      display: none;\n",
              "      fill: #1967D2;\n",
              "      height: 32px;\n",
              "      padding: 0 0 0 0;\n",
              "      width: 32px;\n",
              "    }\n",
              "\n",
              "    .colab-df-convert:hover {\n",
              "      background-color: #E2EBFA;\n",
              "      box-shadow: 0px 1px 2px rgba(60, 64, 67, 0.3), 0px 1px 3px 1px rgba(60, 64, 67, 0.15);\n",
              "      fill: #174EA6;\n",
              "    }\n",
              "\n",
              "    [theme=dark] .colab-df-convert {\n",
              "      background-color: #3B4455;\n",
              "      fill: #D2E3FC;\n",
              "    }\n",
              "\n",
              "    [theme=dark] .colab-df-convert:hover {\n",
              "      background-color: #434B5C;\n",
              "      box-shadow: 0px 1px 3px 1px rgba(0, 0, 0, 0.15);\n",
              "      filter: drop-shadow(0px 1px 2px rgba(0, 0, 0, 0.3));\n",
              "      fill: #FFFFFF;\n",
              "    }\n",
              "  </style>\n",
              "\n",
              "      <script>\n",
              "        const buttonEl =\n",
              "          document.querySelector('#df-5589dd9a-1da3-4788-a305-a5cc89d01377 button.colab-df-convert');\n",
              "        buttonEl.style.display =\n",
              "          google.colab.kernel.accessAllowed ? 'block' : 'none';\n",
              "\n",
              "        async function convertToInteractive(key) {\n",
              "          const element = document.querySelector('#df-5589dd9a-1da3-4788-a305-a5cc89d01377');\n",
              "          const dataTable =\n",
              "            await google.colab.kernel.invokeFunction('convertToInteractive',\n",
              "                                                     [key], {});\n",
              "          if (!dataTable) return;\n",
              "\n",
              "          const docLinkHtml = 'Like what you see? Visit the ' +\n",
              "            '<a target=\"_blank\" href=https://colab.research.google.com/notebooks/data_table.ipynb>data table notebook</a>'\n",
              "            + ' to learn more about interactive tables.';\n",
              "          element.innerHTML = '';\n",
              "          dataTable['output_type'] = 'display_data';\n",
              "          await google.colab.output.renderOutput(dataTable, element);\n",
              "          const docLink = document.createElement('div');\n",
              "          docLink.innerHTML = docLinkHtml;\n",
              "          element.appendChild(docLink);\n",
              "        }\n",
              "      </script>\n",
              "    </div>\n",
              "  </div>\n",
              "  "
            ]
          },
          "metadata": {},
          "execution_count": 96
        }
      ]
    },
    {
      "cell_type": "code",
      "source": [
        "df_Los_Angeles\n",
        "df_Los_Angeles.to_csv('Los_Angeles.csv', index=False)"
      ],
      "metadata": {
        "id": "7a7ngjz65Evj"
      },
      "execution_count": null,
      "outputs": []
    },
    {
      "cell_type": "code",
      "source": [
        "df_Seattle.columns"
      ],
      "metadata": {
        "colab": {
          "base_uri": "https://localhost:8080/"
        },
        "id": "5JqCigP-5nJs",
        "outputId": "fbf44208-72f9-403a-9415-f1c2ba188c53"
      },
      "execution_count": null,
      "outputs": [
        {
          "output_type": "execute_result",
          "data": {
            "text/plain": [
              "Index(['Report Number', 'Offense ID', 'Offense Start DateTime',\n",
              "       'Offense End DateTime', 'Report DateTime', 'Group A B',\n",
              "       'Crime Against Category', 'Offense Parent Group', 'Offense',\n",
              "       'Offense Code', 'Precinct', 'Sector', 'Beat', 'MCPP', 'Location',\n",
              "       'Longitude', 'Latitude'],\n",
              "      dtype='object')"
            ]
          },
          "metadata": {},
          "execution_count": 98
        }
      ]
    },
    {
      "cell_type": "code",
      "source": [
        "df_Seattle = df_Seattle[['Report Number', 'Offense Start DateTime', 'Offense', 'Location', 'Longitude', 'Latitude' ]]"
      ],
      "metadata": {
        "id": "EbxsFlA45665"
      },
      "execution_count": null,
      "outputs": []
    },
    {
      "cell_type": "code",
      "source": [
        "df_Seattle.rename(\n",
        "    columns={\"Offense Start DateTime\":\"date_time\",\n",
        "              \"Report Number\":\"id\",\n",
        "              \"Offense\":\"cat\",\n",
        "              \"Location\":\"address\",\n",
        "              \"Longitude\":\"lat\",\n",
        "              \"Latitude\":\"long\",},\n",
        "      inplace=True)"
      ],
      "metadata": {
        "id": "4i7mz5Xl92ZT",
        "colab": {
          "base_uri": "https://localhost:8080/"
        },
        "outputId": "ac4ad0dc-d834-408e-9029-b683f1e702a2"
      },
      "execution_count": null,
      "outputs": [
        {
          "output_type": "stream",
          "name": "stderr",
          "text": [
            "/usr/local/lib/python3.7/dist-packages/pandas/core/frame.py:5047: SettingWithCopyWarning: \n",
            "A value is trying to be set on a copy of a slice from a DataFrame\n",
            "\n",
            "See the caveats in the documentation: https://pandas.pydata.org/pandas-docs/stable/user_guide/indexing.html#returning-a-view-versus-a-copy\n",
            "  errors=errors,\n"
          ]
        }
      ]
    },
    {
      "cell_type": "code",
      "source": [
        "df_Seattle['date'] = pd.DatetimeIndex(df_Seattle['date_time']).date\n",
        "df_Seattle['month'] = pd.DatetimeIndex(df_Seattle['date_time']).month\n",
        "df_Seattle['year'] = pd.DatetimeIndex(df_Seattle['date_time']).year\n",
        "df_Seattle['dow'] = pd.to_datetime(df_Seattle['date_time']).dt.day_name()\n",
        "df_Seattle['time'] = pd.DatetimeIndex(df_Seattle['date_time']).time\n",
        "\n",
        "df_Seattle.head()"
      ],
      "metadata": {
        "id": "sEmgUSpZObYx",
        "colab": {
          "base_uri": "https://localhost:8080/",
          "height": 337
        },
        "outputId": "f7da4f03-dc9c-48fa-8b72-1dcda1e63a7d"
      },
      "execution_count": null,
      "outputs": [
        {
          "output_type": "execute_result",
          "data": {
            "text/plain": [
              "            id       date_time                                          cat  \\\n",
              "0  2020-044620  2/5/2020 10:10                     Drug/Narcotic Violations   \n",
              "1  2020-044452   2/3/2020 8:00  Theft of Motor Vehicle Parts or Accessories   \n",
              "2  2020-044465  2/2/2020 20:30                                      Robbery   \n",
              "3  2020-044225   2/5/2020 1:17     Destruction/Damage/Vandalism of Property   \n",
              "4  2020-044076   2/5/2020 0:51                  Driving Under the Influence   \n",
              "\n",
              "                        address         lat       long        date  month  \\\n",
              "0             100 Block Address -122.385974  47.649387  2020-02-05    2.0   \n",
              "1      32XX BLOCK OF 23RD AVE W -122.323399  47.675118  2020-02-03    2.0   \n",
              "2      63XX BLOCK OF 5TH AVE NE -122.299552  47.666384  2020-02-02    2.0   \n",
              "3  26TH AVE NE / NE BLAKELEY ST -122.384865  47.642927  2020-02-05    2.0   \n",
              "4       22XX BLOCK OF W RAYE ST -122.366195  47.662193  2020-02-05    2.0   \n",
              "\n",
              "     year        dow      time  \n",
              "0  2020.0  Wednesday  10:10:00  \n",
              "1  2020.0     Monday  08:00:00  \n",
              "2  2020.0     Sunday  20:30:00  \n",
              "3  2020.0  Wednesday  01:17:00  \n",
              "4  2020.0  Wednesday  00:51:00  "
            ],
            "text/html": [
              "\n",
              "  <div id=\"df-f313aeb5-8df9-4039-a2c5-82351a9b282a\">\n",
              "    <div class=\"colab-df-container\">\n",
              "      <div>\n",
              "<style scoped>\n",
              "    .dataframe tbody tr th:only-of-type {\n",
              "        vertical-align: middle;\n",
              "    }\n",
              "\n",
              "    .dataframe tbody tr th {\n",
              "        vertical-align: top;\n",
              "    }\n",
              "\n",
              "    .dataframe thead th {\n",
              "        text-align: right;\n",
              "    }\n",
              "</style>\n",
              "<table border=\"1\" class=\"dataframe\">\n",
              "  <thead>\n",
              "    <tr style=\"text-align: right;\">\n",
              "      <th></th>\n",
              "      <th>id</th>\n",
              "      <th>date_time</th>\n",
              "      <th>cat</th>\n",
              "      <th>address</th>\n",
              "      <th>lat</th>\n",
              "      <th>long</th>\n",
              "      <th>date</th>\n",
              "      <th>month</th>\n",
              "      <th>year</th>\n",
              "      <th>dow</th>\n",
              "      <th>time</th>\n",
              "    </tr>\n",
              "  </thead>\n",
              "  <tbody>\n",
              "    <tr>\n",
              "      <th>0</th>\n",
              "      <td>2020-044620</td>\n",
              "      <td>2/5/2020 10:10</td>\n",
              "      <td>Drug/Narcotic Violations</td>\n",
              "      <td>100 Block Address</td>\n",
              "      <td>-122.385974</td>\n",
              "      <td>47.649387</td>\n",
              "      <td>2020-02-05</td>\n",
              "      <td>2.0</td>\n",
              "      <td>2020.0</td>\n",
              "      <td>Wednesday</td>\n",
              "      <td>10:10:00</td>\n",
              "    </tr>\n",
              "    <tr>\n",
              "      <th>1</th>\n",
              "      <td>2020-044452</td>\n",
              "      <td>2/3/2020 8:00</td>\n",
              "      <td>Theft of Motor Vehicle Parts or Accessories</td>\n",
              "      <td>32XX BLOCK OF 23RD AVE W</td>\n",
              "      <td>-122.323399</td>\n",
              "      <td>47.675118</td>\n",
              "      <td>2020-02-03</td>\n",
              "      <td>2.0</td>\n",
              "      <td>2020.0</td>\n",
              "      <td>Monday</td>\n",
              "      <td>08:00:00</td>\n",
              "    </tr>\n",
              "    <tr>\n",
              "      <th>2</th>\n",
              "      <td>2020-044465</td>\n",
              "      <td>2/2/2020 20:30</td>\n",
              "      <td>Robbery</td>\n",
              "      <td>63XX BLOCK OF 5TH AVE NE</td>\n",
              "      <td>-122.299552</td>\n",
              "      <td>47.666384</td>\n",
              "      <td>2020-02-02</td>\n",
              "      <td>2.0</td>\n",
              "      <td>2020.0</td>\n",
              "      <td>Sunday</td>\n",
              "      <td>20:30:00</td>\n",
              "    </tr>\n",
              "    <tr>\n",
              "      <th>3</th>\n",
              "      <td>2020-044225</td>\n",
              "      <td>2/5/2020 1:17</td>\n",
              "      <td>Destruction/Damage/Vandalism of Property</td>\n",
              "      <td>26TH AVE NE / NE BLAKELEY ST</td>\n",
              "      <td>-122.384865</td>\n",
              "      <td>47.642927</td>\n",
              "      <td>2020-02-05</td>\n",
              "      <td>2.0</td>\n",
              "      <td>2020.0</td>\n",
              "      <td>Wednesday</td>\n",
              "      <td>01:17:00</td>\n",
              "    </tr>\n",
              "    <tr>\n",
              "      <th>4</th>\n",
              "      <td>2020-044076</td>\n",
              "      <td>2/5/2020 0:51</td>\n",
              "      <td>Driving Under the Influence</td>\n",
              "      <td>22XX BLOCK OF W RAYE ST</td>\n",
              "      <td>-122.366195</td>\n",
              "      <td>47.662193</td>\n",
              "      <td>2020-02-05</td>\n",
              "      <td>2.0</td>\n",
              "      <td>2020.0</td>\n",
              "      <td>Wednesday</td>\n",
              "      <td>00:51:00</td>\n",
              "    </tr>\n",
              "  </tbody>\n",
              "</table>\n",
              "</div>\n",
              "      <button class=\"colab-df-convert\" onclick=\"convertToInteractive('df-f313aeb5-8df9-4039-a2c5-82351a9b282a')\"\n",
              "              title=\"Convert this dataframe to an interactive table.\"\n",
              "              style=\"display:none;\">\n",
              "        \n",
              "  <svg xmlns=\"http://www.w3.org/2000/svg\" height=\"24px\"viewBox=\"0 0 24 24\"\n",
              "       width=\"24px\">\n",
              "    <path d=\"M0 0h24v24H0V0z\" fill=\"none\"/>\n",
              "    <path d=\"M18.56 5.44l.94 2.06.94-2.06 2.06-.94-2.06-.94-.94-2.06-.94 2.06-2.06.94zm-11 1L8.5 8.5l.94-2.06 2.06-.94-2.06-.94L8.5 2.5l-.94 2.06-2.06.94zm10 10l.94 2.06.94-2.06 2.06-.94-2.06-.94-.94-2.06-.94 2.06-2.06.94z\"/><path d=\"M17.41 7.96l-1.37-1.37c-.4-.4-.92-.59-1.43-.59-.52 0-1.04.2-1.43.59L10.3 9.45l-7.72 7.72c-.78.78-.78 2.05 0 2.83L4 21.41c.39.39.9.59 1.41.59.51 0 1.02-.2 1.41-.59l7.78-7.78 2.81-2.81c.8-.78.8-2.07 0-2.86zM5.41 20L4 18.59l7.72-7.72 1.47 1.35L5.41 20z\"/>\n",
              "  </svg>\n",
              "      </button>\n",
              "      \n",
              "  <style>\n",
              "    .colab-df-container {\n",
              "      display:flex;\n",
              "      flex-wrap:wrap;\n",
              "      gap: 12px;\n",
              "    }\n",
              "\n",
              "    .colab-df-convert {\n",
              "      background-color: #E8F0FE;\n",
              "      border: none;\n",
              "      border-radius: 50%;\n",
              "      cursor: pointer;\n",
              "      display: none;\n",
              "      fill: #1967D2;\n",
              "      height: 32px;\n",
              "      padding: 0 0 0 0;\n",
              "      width: 32px;\n",
              "    }\n",
              "\n",
              "    .colab-df-convert:hover {\n",
              "      background-color: #E2EBFA;\n",
              "      box-shadow: 0px 1px 2px rgba(60, 64, 67, 0.3), 0px 1px 3px 1px rgba(60, 64, 67, 0.15);\n",
              "      fill: #174EA6;\n",
              "    }\n",
              "\n",
              "    [theme=dark] .colab-df-convert {\n",
              "      background-color: #3B4455;\n",
              "      fill: #D2E3FC;\n",
              "    }\n",
              "\n",
              "    [theme=dark] .colab-df-convert:hover {\n",
              "      background-color: #434B5C;\n",
              "      box-shadow: 0px 1px 3px 1px rgba(0, 0, 0, 0.15);\n",
              "      filter: drop-shadow(0px 1px 2px rgba(0, 0, 0, 0.3));\n",
              "      fill: #FFFFFF;\n",
              "    }\n",
              "  </style>\n",
              "\n",
              "      <script>\n",
              "        const buttonEl =\n",
              "          document.querySelector('#df-f313aeb5-8df9-4039-a2c5-82351a9b282a button.colab-df-convert');\n",
              "        buttonEl.style.display =\n",
              "          google.colab.kernel.accessAllowed ? 'block' : 'none';\n",
              "\n",
              "        async function convertToInteractive(key) {\n",
              "          const element = document.querySelector('#df-f313aeb5-8df9-4039-a2c5-82351a9b282a');\n",
              "          const dataTable =\n",
              "            await google.colab.kernel.invokeFunction('convertToInteractive',\n",
              "                                                     [key], {});\n",
              "          if (!dataTable) return;\n",
              "\n",
              "          const docLinkHtml = 'Like what you see? Visit the ' +\n",
              "            '<a target=\"_blank\" href=https://colab.research.google.com/notebooks/data_table.ipynb>data table notebook</a>'\n",
              "            + ' to learn more about interactive tables.';\n",
              "          element.innerHTML = '';\n",
              "          dataTable['output_type'] = 'display_data';\n",
              "          await google.colab.output.renderOutput(dataTable, element);\n",
              "          const docLink = document.createElement('div');\n",
              "          docLink.innerHTML = docLinkHtml;\n",
              "          element.appendChild(docLink);\n",
              "        }\n",
              "      </script>\n",
              "    </div>\n",
              "  </div>\n",
              "  "
            ]
          },
          "metadata": {},
          "execution_count": 101
        }
      ]
    },
    {
      "cell_type": "code",
      "source": [
        "df_Seattle\n",
        "df_Seattle.to_csv('Seattle.csv', index=False)"
      ],
      "metadata": {
        "id": "gns5oqFa6b4_"
      },
      "execution_count": null,
      "outputs": []
    },
    {
      "cell_type": "code",
      "source": [
        "df_boston = df_boston[['INCIDENT_NUMBER','OCCURRED_ON_DATE', 'YEAR', 'MONTH', 'DAY_OF_WEEK', 'HOUR', 'OFFENSE_DESCRIPTION', 'STREET', 'Lat', 'Long']]\n"
      ],
      "metadata": {
        "id": "jOrIYzly7ZNM"
      },
      "execution_count": null,
      "outputs": []
    },
    {
      "cell_type": "code",
      "source": [
        "df_boston.rename(\n",
        "    columns={\"OCCURRED_ON_DATE\":\"date_time\",\n",
        "              \"HOUR\":\"time\",\n",
        "              \"MONTH\":\"month\",\n",
        "              \"YEAR\":\"year\",\n",
        "              \"INCIDENT_NUMBER\":\"id\",\n",
        "              \"DAY_OF_WEEK\":\"dow\",\n",
        "              \"OFFENSE_DESCRIPTION\":\"cat\",\n",
        "              \"STREET\":\"address\",\n",
        "              \"Lat\":\"lat\",\n",
        "              \"Long\":\"long\",},\n",
        "      inplace=True)"
      ],
      "metadata": {
        "id": "rWtXZfF-93Ic"
      },
      "execution_count": null,
      "outputs": []
    },
    {
      "cell_type": "code",
      "source": [
        "df_boston.isnull().sum()"
      ],
      "metadata": {
        "colab": {
          "base_uri": "https://localhost:8080/"
        },
        "id": "nqgBG2ctd6On",
        "outputId": "9e0948cc-48b4-4908-adb3-a7d5533c377f"
      },
      "execution_count": null,
      "outputs": [
        {
          "output_type": "execute_result",
          "data": {
            "text/plain": [
              "id              0\n",
              "date_time       0\n",
              "year            0\n",
              "month           0\n",
              "dow             0\n",
              "time            0\n",
              "cat             0\n",
              "address      2297\n",
              "lat          6429\n",
              "long         6429\n",
              "dtype: int64"
            ]
          },
          "metadata": {},
          "execution_count": 136
        }
      ]
    },
    {
      "cell_type": "code",
      "source": [
        "df_boston['date'] = pd.DatetimeIndex(df_boston['date_time']).date\n",
        "df_boston['time'] = pd.DatetimeIndex(df_boston['date_time']).time\n",
        "\n",
        "df_boston.head()"
      ],
      "metadata": {
        "colab": {
          "base_uri": "https://localhost:8080/",
          "height": 250
        },
        "id": "oYUxDuDCdVKT",
        "outputId": "015540fe-2915-47dc-94c5-6baf173db8bd"
      },
      "execution_count": null,
      "outputs": [
        {
          "output_type": "execute_result",
          "data": {
            "text/plain": [
              "           id         date_time  year  month        dow      time  \\\n",
              "0  I192077559    4/30/2018 9:00  2018      4     Monday  09:00:00   \n",
              "1  I192077332     3/6/2018 8:00  2018      3    Tuesday  08:00:00   \n",
              "2  I192076660  10/31/2018 12:00  2018     10  Wednesday  12:00:00   \n",
              "3  I192075386     4/9/2018 8:43  2018      4     Monday  08:43:00   \n",
              "4  I192075335     1/1/2018 0:00  2018      1     Monday  00:00:00   \n",
              "\n",
              "                  cat           address        lat       long        date  \n",
              "0  INVESTIGATE PERSON       HAZLETON ST  42.279971 -71.095534  2018-04-30  \n",
              "1  LARCENY ALL OTHERS     HYDE PARK AVE  42.269224 -71.120853  2018-03-06  \n",
              "2          HARASSMENT       PRIMROSE ST  42.290765 -71.130211  2018-10-31  \n",
              "3          HARASSMENT      ATLANTIC AVE  42.355264 -71.050988  2018-04-09  \n",
              "4  PROPERTY - MISSING  COMMONWEALTH AVE  42.353522 -71.072838  2018-01-01  "
            ],
            "text/html": [
              "\n",
              "  <div id=\"df-4243cc16-f382-4879-9d71-18020fc58c6a\">\n",
              "    <div class=\"colab-df-container\">\n",
              "      <div>\n",
              "<style scoped>\n",
              "    .dataframe tbody tr th:only-of-type {\n",
              "        vertical-align: middle;\n",
              "    }\n",
              "\n",
              "    .dataframe tbody tr th {\n",
              "        vertical-align: top;\n",
              "    }\n",
              "\n",
              "    .dataframe thead th {\n",
              "        text-align: right;\n",
              "    }\n",
              "</style>\n",
              "<table border=\"1\" class=\"dataframe\">\n",
              "  <thead>\n",
              "    <tr style=\"text-align: right;\">\n",
              "      <th></th>\n",
              "      <th>id</th>\n",
              "      <th>date_time</th>\n",
              "      <th>year</th>\n",
              "      <th>month</th>\n",
              "      <th>dow</th>\n",
              "      <th>time</th>\n",
              "      <th>cat</th>\n",
              "      <th>address</th>\n",
              "      <th>lat</th>\n",
              "      <th>long</th>\n",
              "      <th>date</th>\n",
              "    </tr>\n",
              "  </thead>\n",
              "  <tbody>\n",
              "    <tr>\n",
              "      <th>0</th>\n",
              "      <td>I192077559</td>\n",
              "      <td>4/30/2018 9:00</td>\n",
              "      <td>2018</td>\n",
              "      <td>4</td>\n",
              "      <td>Monday</td>\n",
              "      <td>09:00:00</td>\n",
              "      <td>INVESTIGATE PERSON</td>\n",
              "      <td>HAZLETON ST</td>\n",
              "      <td>42.279971</td>\n",
              "      <td>-71.095534</td>\n",
              "      <td>2018-04-30</td>\n",
              "    </tr>\n",
              "    <tr>\n",
              "      <th>1</th>\n",
              "      <td>I192077332</td>\n",
              "      <td>3/6/2018 8:00</td>\n",
              "      <td>2018</td>\n",
              "      <td>3</td>\n",
              "      <td>Tuesday</td>\n",
              "      <td>08:00:00</td>\n",
              "      <td>LARCENY ALL OTHERS</td>\n",
              "      <td>HYDE PARK AVE</td>\n",
              "      <td>42.269224</td>\n",
              "      <td>-71.120853</td>\n",
              "      <td>2018-03-06</td>\n",
              "    </tr>\n",
              "    <tr>\n",
              "      <th>2</th>\n",
              "      <td>I192076660</td>\n",
              "      <td>10/31/2018 12:00</td>\n",
              "      <td>2018</td>\n",
              "      <td>10</td>\n",
              "      <td>Wednesday</td>\n",
              "      <td>12:00:00</td>\n",
              "      <td>HARASSMENT</td>\n",
              "      <td>PRIMROSE ST</td>\n",
              "      <td>42.290765</td>\n",
              "      <td>-71.130211</td>\n",
              "      <td>2018-10-31</td>\n",
              "    </tr>\n",
              "    <tr>\n",
              "      <th>3</th>\n",
              "      <td>I192075386</td>\n",
              "      <td>4/9/2018 8:43</td>\n",
              "      <td>2018</td>\n",
              "      <td>4</td>\n",
              "      <td>Monday</td>\n",
              "      <td>08:43:00</td>\n",
              "      <td>HARASSMENT</td>\n",
              "      <td>ATLANTIC AVE</td>\n",
              "      <td>42.355264</td>\n",
              "      <td>-71.050988</td>\n",
              "      <td>2018-04-09</td>\n",
              "    </tr>\n",
              "    <tr>\n",
              "      <th>4</th>\n",
              "      <td>I192075335</td>\n",
              "      <td>1/1/2018 0:00</td>\n",
              "      <td>2018</td>\n",
              "      <td>1</td>\n",
              "      <td>Monday</td>\n",
              "      <td>00:00:00</td>\n",
              "      <td>PROPERTY - MISSING</td>\n",
              "      <td>COMMONWEALTH AVE</td>\n",
              "      <td>42.353522</td>\n",
              "      <td>-71.072838</td>\n",
              "      <td>2018-01-01</td>\n",
              "    </tr>\n",
              "  </tbody>\n",
              "</table>\n",
              "</div>\n",
              "      <button class=\"colab-df-convert\" onclick=\"convertToInteractive('df-4243cc16-f382-4879-9d71-18020fc58c6a')\"\n",
              "              title=\"Convert this dataframe to an interactive table.\"\n",
              "              style=\"display:none;\">\n",
              "        \n",
              "  <svg xmlns=\"http://www.w3.org/2000/svg\" height=\"24px\"viewBox=\"0 0 24 24\"\n",
              "       width=\"24px\">\n",
              "    <path d=\"M0 0h24v24H0V0z\" fill=\"none\"/>\n",
              "    <path d=\"M18.56 5.44l.94 2.06.94-2.06 2.06-.94-2.06-.94-.94-2.06-.94 2.06-2.06.94zm-11 1L8.5 8.5l.94-2.06 2.06-.94-2.06-.94L8.5 2.5l-.94 2.06-2.06.94zm10 10l.94 2.06.94-2.06 2.06-.94-2.06-.94-.94-2.06-.94 2.06-2.06.94z\"/><path d=\"M17.41 7.96l-1.37-1.37c-.4-.4-.92-.59-1.43-.59-.52 0-1.04.2-1.43.59L10.3 9.45l-7.72 7.72c-.78.78-.78 2.05 0 2.83L4 21.41c.39.39.9.59 1.41.59.51 0 1.02-.2 1.41-.59l7.78-7.78 2.81-2.81c.8-.78.8-2.07 0-2.86zM5.41 20L4 18.59l7.72-7.72 1.47 1.35L5.41 20z\"/>\n",
              "  </svg>\n",
              "      </button>\n",
              "      \n",
              "  <style>\n",
              "    .colab-df-container {\n",
              "      display:flex;\n",
              "      flex-wrap:wrap;\n",
              "      gap: 12px;\n",
              "    }\n",
              "\n",
              "    .colab-df-convert {\n",
              "      background-color: #E8F0FE;\n",
              "      border: none;\n",
              "      border-radius: 50%;\n",
              "      cursor: pointer;\n",
              "      display: none;\n",
              "      fill: #1967D2;\n",
              "      height: 32px;\n",
              "      padding: 0 0 0 0;\n",
              "      width: 32px;\n",
              "    }\n",
              "\n",
              "    .colab-df-convert:hover {\n",
              "      background-color: #E2EBFA;\n",
              "      box-shadow: 0px 1px 2px rgba(60, 64, 67, 0.3), 0px 1px 3px 1px rgba(60, 64, 67, 0.15);\n",
              "      fill: #174EA6;\n",
              "    }\n",
              "\n",
              "    [theme=dark] .colab-df-convert {\n",
              "      background-color: #3B4455;\n",
              "      fill: #D2E3FC;\n",
              "    }\n",
              "\n",
              "    [theme=dark] .colab-df-convert:hover {\n",
              "      background-color: #434B5C;\n",
              "      box-shadow: 0px 1px 3px 1px rgba(0, 0, 0, 0.15);\n",
              "      filter: drop-shadow(0px 1px 2px rgba(0, 0, 0, 0.3));\n",
              "      fill: #FFFFFF;\n",
              "    }\n",
              "  </style>\n",
              "\n",
              "      <script>\n",
              "        const buttonEl =\n",
              "          document.querySelector('#df-4243cc16-f382-4879-9d71-18020fc58c6a button.colab-df-convert');\n",
              "        buttonEl.style.display =\n",
              "          google.colab.kernel.accessAllowed ? 'block' : 'none';\n",
              "\n",
              "        async function convertToInteractive(key) {\n",
              "          const element = document.querySelector('#df-4243cc16-f382-4879-9d71-18020fc58c6a');\n",
              "          const dataTable =\n",
              "            await google.colab.kernel.invokeFunction('convertToInteractive',\n",
              "                                                     [key], {});\n",
              "          if (!dataTable) return;\n",
              "\n",
              "          const docLinkHtml = 'Like what you see? Visit the ' +\n",
              "            '<a target=\"_blank\" href=https://colab.research.google.com/notebooks/data_table.ipynb>data table notebook</a>'\n",
              "            + ' to learn more about interactive tables.';\n",
              "          element.innerHTML = '';\n",
              "          dataTable['output_type'] = 'display_data';\n",
              "          await google.colab.output.renderOutput(dataTable, element);\n",
              "          const docLink = document.createElement('div');\n",
              "          docLink.innerHTML = docLinkHtml;\n",
              "          element.appendChild(docLink);\n",
              "        }\n",
              "      </script>\n",
              "    </div>\n",
              "  </div>\n",
              "  "
            ]
          },
          "metadata": {},
          "execution_count": 137
        }
      ]
    },
    {
      "cell_type": "code",
      "source": [
        "df_boston\n",
        "df_boston.to_csv('Boston.csv', index=False)"
      ],
      "metadata": {
        "id": "mby4Ofjw7aPn"
      },
      "execution_count": null,
      "outputs": []
    }
  ]
}