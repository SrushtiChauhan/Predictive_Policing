{
  "nbformat": 4,
  "nbformat_minor": 0,
  "metadata": {
    "colab": {
      "name": "Predictive_Policing",
      "provenance": [],
      "collapsed_sections": []
    },
    "kernelspec": {
      "name": "python3",
      "display_name": "Python 3"
    },
    "language_info": {
      "name": "python"
    }
  },
  "cells": [
    {
      "cell_type": "code",
      "source": [
        "pip install geopandas"
      ],
      "metadata": {
        "colab": {
          "base_uri": "https://localhost:8080/"
        },
        "id": "aAGnlZDqtwVi",
        "outputId": "549ba4b1-319e-4d2e-ba7b-c505aa1ac855"
      },
      "execution_count": 6,
      "outputs": [
        {
          "output_type": "stream",
          "name": "stdout",
          "text": [
            "Looking in indexes: https://pypi.org/simple, https://us-python.pkg.dev/colab-wheels/public/simple/\n",
            "Requirement already satisfied: geopandas in /usr/local/lib/python3.7/site-packages (0.10.2)\n",
            "Requirement already satisfied: pyproj>=2.2.0 in /usr/local/lib/python3.7/site-packages (from geopandas) (3.1.0)\n",
            "Requirement already satisfied: fiona>=1.8 in /usr/local/lib/python3.7/site-packages (from geopandas) (1.8.20)\n",
            "Requirement already satisfied: shapely>=1.6 in /usr/local/lib/python3.7/site-packages (from geopandas) (1.7.1)\n",
            "Requirement already satisfied: pandas>=0.25.0 in /usr/local/lib/python3.7/site-packages (from geopandas) (1.3.1)\n",
            "Requirement already satisfied: attrs>=17 in /usr/local/lib/python3.7/site-packages (from fiona>=1.8->geopandas) (21.4.0)\n",
            "Requirement already satisfied: certifi in /usr/local/lib/python3.7/site-packages (from fiona>=1.8->geopandas) (2022.5.18.1)\n",
            "Requirement already satisfied: click>=4.0 in /usr/local/lib/python3.7/site-packages (from fiona>=1.8->geopandas) (7.1.2)\n",
            "Requirement already satisfied: cligj>=0.5 in /usr/local/lib/python3.7/site-packages (from fiona>=1.8->geopandas) (0.7.2)\n",
            "Requirement already satisfied: click-plugins>=1.0 in /usr/local/lib/python3.7/site-packages (from fiona>=1.8->geopandas) (1.1.1)\n",
            "Requirement already satisfied: six>=1.7 in /usr/local/lib/python3.7/site-packages (from fiona>=1.8->geopandas) (1.15.0)\n",
            "Requirement already satisfied: munch in /usr/local/lib/python3.7/site-packages (from fiona>=1.8->geopandas) (2.5.0)\n",
            "Requirement already satisfied: setuptools in /usr/local/lib/python3.7/site-packages (from fiona>=1.8->geopandas) (49.6.0.post20210108)\n",
            "Requirement already satisfied: numpy>=1.17.3 in /usr/local/lib/python3.7/site-packages (from pandas>=0.25.0->geopandas) (1.21.1)\n",
            "Requirement already satisfied: python-dateutil>=2.7.3 in /usr/local/lib/python3.7/site-packages (from pandas>=0.25.0->geopandas) (2.8.2)\n",
            "Requirement already satisfied: pytz>=2017.3 in /usr/local/lib/python3.7/site-packages (from pandas>=0.25.0->geopandas) (2022.1)\n"
          ]
        }
      ]
    },
    {
      "cell_type": "code",
      "execution_count": 7,
      "metadata": {
        "colab": {
          "base_uri": "https://localhost:8080/"
        },
        "id": "iDPzCT0rsNV_",
        "outputId": "5497dc76-123f-497c-8420-75544e3d28e9"
      },
      "outputs": [
        {
          "output_type": "stream",
          "name": "stderr",
          "text": [
            "/usr/local/lib/python3.7/dist-packages/statsmodels/tools/_testing.py:19: FutureWarning: pandas.util.testing is deprecated. Use the functions in the public API at pandas.testing instead.\n",
            "  import pandas.util.testing as tm\n"
          ]
        }
      ],
      "source": [
        "from sklearn.linear_model import LinearRegression\n",
        "from sklearn.ensemble import RandomForestRegressor\n",
        "from sklearn.neighbors import KNeighborsRegressor\n",
        "from sklearn.neural_network import MLPRegressor\n",
        "from sklearn.svm import SVR\n",
        "from xgboost import XGBRegressor\n",
        "import geopandas\n",
        "from shapely.geometry import Point\n",
        "import numpy as np\n",
        "import pandas as pd\n",
        "import statsmodels.formula.api as sm\n",
        "import matplotlib.pyplot as plt\n",
        "import seaborn as sns\n",
        "% matplotlib inline"
      ]
    },
    {
      "cell_type": "code",
      "source": [
        "crime17 = pd.read_csv('https://raw.githubusercontent.com/orlandott/Predictive_Policing/master/sf_incidents16.csv')\n",
        "crime16 = pd.read_csv('https://raw.githubusercontent.com/orlandott/Predictive_Policing/master/sf_incidents17.csv')"
      ],
      "metadata": {
        "id": "1g3qreaot7wD"
      },
      "execution_count": 8,
      "outputs": []
    },
    {
      "cell_type": "code",
      "source": [
        "crime16.head(3)"
      ],
      "metadata": {
        "colab": {
          "base_uri": "https://localhost:8080/",
          "height": 257
        },
        "id": "mbR308dut7pK",
        "outputId": "565df641-28ff-4ba5-87c4-67223eb1034e"
      },
      "execution_count": 9,
      "outputs": [
        {
          "output_type": "execute_result",
          "data": {
            "text/plain": [
              "   IncidntNum        Category                           Descript  DayOfWeek  \\\n",
              "0   150333505        WARRANTS                     WARRANT ARREST  Wednesday   \n",
              "1   141091334        BURGLARY  BURGLARY OF STORE, FORCIBLE ENTRY  Wednesday   \n",
              "2   160913272  SUSPICIOUS OCC              SUSPICIOUS OCCURRENCE    Tuesday   \n",
              "\n",
              "         Date   Time PdDistrict      Resolution                 Address  \\\n",
              "0  04/19/2017  21:29    MISSION  ARREST, BOOKED     24TH ST / BRYANT ST   \n",
              "1  03/08/2017  14:28   SOUTHERN            NONE  800 Block of BRYANT ST   \n",
              "2  09/12/2017  09:00    MISSION       UNFOUNDED   2700 Block of 16TH ST   \n",
              "\n",
              "            X          Y                                   Location  \\\n",
              "0 -122.409132  37.752797  (37.752796998558445, -122.40913193948903)   \n",
              "1 -122.403405  37.775421     (37.775420706711, -122.40340479147905)   \n",
              "2 -122.414223  37.765325     (37.76532508532617, -122.414222704763)   \n",
              "\n",
              "             PdId  \n",
              "0  15033350563010  \n",
              "1  14109133405051  \n",
              "2  16091327264070  "
            ],
            "text/html": [
              "\n",
              "  <div id=\"df-005f9b7a-6ea7-4372-8ca7-2b74f3718000\">\n",
              "    <div class=\"colab-df-container\">\n",
              "      <div>\n",
              "<style scoped>\n",
              "    .dataframe tbody tr th:only-of-type {\n",
              "        vertical-align: middle;\n",
              "    }\n",
              "\n",
              "    .dataframe tbody tr th {\n",
              "        vertical-align: top;\n",
              "    }\n",
              "\n",
              "    .dataframe thead th {\n",
              "        text-align: right;\n",
              "    }\n",
              "</style>\n",
              "<table border=\"1\" class=\"dataframe\">\n",
              "  <thead>\n",
              "    <tr style=\"text-align: right;\">\n",
              "      <th></th>\n",
              "      <th>IncidntNum</th>\n",
              "      <th>Category</th>\n",
              "      <th>Descript</th>\n",
              "      <th>DayOfWeek</th>\n",
              "      <th>Date</th>\n",
              "      <th>Time</th>\n",
              "      <th>PdDistrict</th>\n",
              "      <th>Resolution</th>\n",
              "      <th>Address</th>\n",
              "      <th>X</th>\n",
              "      <th>Y</th>\n",
              "      <th>Location</th>\n",
              "      <th>PdId</th>\n",
              "    </tr>\n",
              "  </thead>\n",
              "  <tbody>\n",
              "    <tr>\n",
              "      <th>0</th>\n",
              "      <td>150333505</td>\n",
              "      <td>WARRANTS</td>\n",
              "      <td>WARRANT ARREST</td>\n",
              "      <td>Wednesday</td>\n",
              "      <td>04/19/2017</td>\n",
              "      <td>21:29</td>\n",
              "      <td>MISSION</td>\n",
              "      <td>ARREST, BOOKED</td>\n",
              "      <td>24TH ST / BRYANT ST</td>\n",
              "      <td>-122.409132</td>\n",
              "      <td>37.752797</td>\n",
              "      <td>(37.752796998558445, -122.40913193948903)</td>\n",
              "      <td>15033350563010</td>\n",
              "    </tr>\n",
              "    <tr>\n",
              "      <th>1</th>\n",
              "      <td>141091334</td>\n",
              "      <td>BURGLARY</td>\n",
              "      <td>BURGLARY OF STORE, FORCIBLE ENTRY</td>\n",
              "      <td>Wednesday</td>\n",
              "      <td>03/08/2017</td>\n",
              "      <td>14:28</td>\n",
              "      <td>SOUTHERN</td>\n",
              "      <td>NONE</td>\n",
              "      <td>800 Block of BRYANT ST</td>\n",
              "      <td>-122.403405</td>\n",
              "      <td>37.775421</td>\n",
              "      <td>(37.775420706711, -122.40340479147905)</td>\n",
              "      <td>14109133405051</td>\n",
              "    </tr>\n",
              "    <tr>\n",
              "      <th>2</th>\n",
              "      <td>160913272</td>\n",
              "      <td>SUSPICIOUS OCC</td>\n",
              "      <td>SUSPICIOUS OCCURRENCE</td>\n",
              "      <td>Tuesday</td>\n",
              "      <td>09/12/2017</td>\n",
              "      <td>09:00</td>\n",
              "      <td>MISSION</td>\n",
              "      <td>UNFOUNDED</td>\n",
              "      <td>2700 Block of 16TH ST</td>\n",
              "      <td>-122.414223</td>\n",
              "      <td>37.765325</td>\n",
              "      <td>(37.76532508532617, -122.414222704763)</td>\n",
              "      <td>16091327264070</td>\n",
              "    </tr>\n",
              "  </tbody>\n",
              "</table>\n",
              "</div>\n",
              "      <button class=\"colab-df-convert\" onclick=\"convertToInteractive('df-005f9b7a-6ea7-4372-8ca7-2b74f3718000')\"\n",
              "              title=\"Convert this dataframe to an interactive table.\"\n",
              "              style=\"display:none;\">\n",
              "        \n",
              "  <svg xmlns=\"http://www.w3.org/2000/svg\" height=\"24px\"viewBox=\"0 0 24 24\"\n",
              "       width=\"24px\">\n",
              "    <path d=\"M0 0h24v24H0V0z\" fill=\"none\"/>\n",
              "    <path d=\"M18.56 5.44l.94 2.06.94-2.06 2.06-.94-2.06-.94-.94-2.06-.94 2.06-2.06.94zm-11 1L8.5 8.5l.94-2.06 2.06-.94-2.06-.94L8.5 2.5l-.94 2.06-2.06.94zm10 10l.94 2.06.94-2.06 2.06-.94-2.06-.94-.94-2.06-.94 2.06-2.06.94z\"/><path d=\"M17.41 7.96l-1.37-1.37c-.4-.4-.92-.59-1.43-.59-.52 0-1.04.2-1.43.59L10.3 9.45l-7.72 7.72c-.78.78-.78 2.05 0 2.83L4 21.41c.39.39.9.59 1.41.59.51 0 1.02-.2 1.41-.59l7.78-7.78 2.81-2.81c.8-.78.8-2.07 0-2.86zM5.41 20L4 18.59l7.72-7.72 1.47 1.35L5.41 20z\"/>\n",
              "  </svg>\n",
              "      </button>\n",
              "      \n",
              "  <style>\n",
              "    .colab-df-container {\n",
              "      display:flex;\n",
              "      flex-wrap:wrap;\n",
              "      gap: 12px;\n",
              "    }\n",
              "\n",
              "    .colab-df-convert {\n",
              "      background-color: #E8F0FE;\n",
              "      border: none;\n",
              "      border-radius: 50%;\n",
              "      cursor: pointer;\n",
              "      display: none;\n",
              "      fill: #1967D2;\n",
              "      height: 32px;\n",
              "      padding: 0 0 0 0;\n",
              "      width: 32px;\n",
              "    }\n",
              "\n",
              "    .colab-df-convert:hover {\n",
              "      background-color: #E2EBFA;\n",
              "      box-shadow: 0px 1px 2px rgba(60, 64, 67, 0.3), 0px 1px 3px 1px rgba(60, 64, 67, 0.15);\n",
              "      fill: #174EA6;\n",
              "    }\n",
              "\n",
              "    [theme=dark] .colab-df-convert {\n",
              "      background-color: #3B4455;\n",
              "      fill: #D2E3FC;\n",
              "    }\n",
              "\n",
              "    [theme=dark] .colab-df-convert:hover {\n",
              "      background-color: #434B5C;\n",
              "      box-shadow: 0px 1px 3px 1px rgba(0, 0, 0, 0.15);\n",
              "      filter: drop-shadow(0px 1px 2px rgba(0, 0, 0, 0.3));\n",
              "      fill: #FFFFFF;\n",
              "    }\n",
              "  </style>\n",
              "\n",
              "      <script>\n",
              "        const buttonEl =\n",
              "          document.querySelector('#df-005f9b7a-6ea7-4372-8ca7-2b74f3718000 button.colab-df-convert');\n",
              "        buttonEl.style.display =\n",
              "          google.colab.kernel.accessAllowed ? 'block' : 'none';\n",
              "\n",
              "        async function convertToInteractive(key) {\n",
              "          const element = document.querySelector('#df-005f9b7a-6ea7-4372-8ca7-2b74f3718000');\n",
              "          const dataTable =\n",
              "            await google.colab.kernel.invokeFunction('convertToInteractive',\n",
              "                                                     [key], {});\n",
              "          if (!dataTable) return;\n",
              "\n",
              "          const docLinkHtml = 'Like what you see? Visit the ' +\n",
              "            '<a target=\"_blank\" href=https://colab.research.google.com/notebooks/data_table.ipynb>data table notebook</a>'\n",
              "            + ' to learn more about interactive tables.';\n",
              "          element.innerHTML = '';\n",
              "          dataTable['output_type'] = 'display_data';\n",
              "          await google.colab.output.renderOutput(dataTable, element);\n",
              "          const docLink = document.createElement('div');\n",
              "          docLink.innerHTML = docLinkHtml;\n",
              "          element.appendChild(docLink);\n",
              "        }\n",
              "      </script>\n",
              "    </div>\n",
              "  </div>\n",
              "  "
            ]
          },
          "metadata": {},
          "execution_count": 9
        }
      ]
    },
    {
      "cell_type": "code",
      "source": [
        "crime17.head(3)"
      ],
      "metadata": {
        "colab": {
          "base_uri": "https://localhost:8080/",
          "height": 257
        },
        "id": "N20cGs-rt7me",
        "outputId": "acd98dd7-3cbf-4599-efb0-efe03da36168"
      },
      "execution_count": 10,
      "outputs": [
        {
          "output_type": "execute_result",
          "data": {
            "text/plain": [
              "   IncidntNum       Category                                        Descript  \\\n",
              "0   120058272    WEAPON LAWS                       POSS OF PROHIBITED WEAPON   \n",
              "1   120058272    WEAPON LAWS  FIREARM, LOADED, IN VEHICLE, POSSESSION OR USE   \n",
              "2   160147073  VEHICLE THEFT                               STOLEN MOTORCYCLE   \n",
              "\n",
              "  DayOfWeek                    Date   Time PdDistrict      Resolution  \\\n",
              "0    Friday  01/29/2016 12:00:00 AM  11:00   SOUTHERN  ARREST, BOOKED   \n",
              "1    Friday  01/29/2016 12:00:00 AM  11:00   SOUTHERN  ARREST, BOOKED   \n",
              "2  Thursday  02/18/2016 12:00:00 AM  22:00   NORTHERN       UNFOUNDED   \n",
              "\n",
              "                  Address           X          Y  \\\n",
              "0  800 Block of BRYANT ST -122.403405  37.775421   \n",
              "1  800 Block of BRYANT ST -122.403405  37.775421   \n",
              "2  BROADWAY ST / GOUGH ST -122.426703  37.795316   \n",
              "\n",
              "                                Location            PdId  \n",
              "0   (37.775420706711, -122.403404791479)  12005827212120  \n",
              "1   (37.775420706711, -122.403404791479)  12005827212168  \n",
              "2  (37.7953163162613, -122.426702502506)  16014707307023  "
            ],
            "text/html": [
              "\n",
              "  <div id=\"df-13a752be-a40c-4339-8d7e-18350212442a\">\n",
              "    <div class=\"colab-df-container\">\n",
              "      <div>\n",
              "<style scoped>\n",
              "    .dataframe tbody tr th:only-of-type {\n",
              "        vertical-align: middle;\n",
              "    }\n",
              "\n",
              "    .dataframe tbody tr th {\n",
              "        vertical-align: top;\n",
              "    }\n",
              "\n",
              "    .dataframe thead th {\n",
              "        text-align: right;\n",
              "    }\n",
              "</style>\n",
              "<table border=\"1\" class=\"dataframe\">\n",
              "  <thead>\n",
              "    <tr style=\"text-align: right;\">\n",
              "      <th></th>\n",
              "      <th>IncidntNum</th>\n",
              "      <th>Category</th>\n",
              "      <th>Descript</th>\n",
              "      <th>DayOfWeek</th>\n",
              "      <th>Date</th>\n",
              "      <th>Time</th>\n",
              "      <th>PdDistrict</th>\n",
              "      <th>Resolution</th>\n",
              "      <th>Address</th>\n",
              "      <th>X</th>\n",
              "      <th>Y</th>\n",
              "      <th>Location</th>\n",
              "      <th>PdId</th>\n",
              "    </tr>\n",
              "  </thead>\n",
              "  <tbody>\n",
              "    <tr>\n",
              "      <th>0</th>\n",
              "      <td>120058272</td>\n",
              "      <td>WEAPON LAWS</td>\n",
              "      <td>POSS OF PROHIBITED WEAPON</td>\n",
              "      <td>Friday</td>\n",
              "      <td>01/29/2016 12:00:00 AM</td>\n",
              "      <td>11:00</td>\n",
              "      <td>SOUTHERN</td>\n",
              "      <td>ARREST, BOOKED</td>\n",
              "      <td>800 Block of BRYANT ST</td>\n",
              "      <td>-122.403405</td>\n",
              "      <td>37.775421</td>\n",
              "      <td>(37.775420706711, -122.403404791479)</td>\n",
              "      <td>12005827212120</td>\n",
              "    </tr>\n",
              "    <tr>\n",
              "      <th>1</th>\n",
              "      <td>120058272</td>\n",
              "      <td>WEAPON LAWS</td>\n",
              "      <td>FIREARM, LOADED, IN VEHICLE, POSSESSION OR USE</td>\n",
              "      <td>Friday</td>\n",
              "      <td>01/29/2016 12:00:00 AM</td>\n",
              "      <td>11:00</td>\n",
              "      <td>SOUTHERN</td>\n",
              "      <td>ARREST, BOOKED</td>\n",
              "      <td>800 Block of BRYANT ST</td>\n",
              "      <td>-122.403405</td>\n",
              "      <td>37.775421</td>\n",
              "      <td>(37.775420706711, -122.403404791479)</td>\n",
              "      <td>12005827212168</td>\n",
              "    </tr>\n",
              "    <tr>\n",
              "      <th>2</th>\n",
              "      <td>160147073</td>\n",
              "      <td>VEHICLE THEFT</td>\n",
              "      <td>STOLEN MOTORCYCLE</td>\n",
              "      <td>Thursday</td>\n",
              "      <td>02/18/2016 12:00:00 AM</td>\n",
              "      <td>22:00</td>\n",
              "      <td>NORTHERN</td>\n",
              "      <td>UNFOUNDED</td>\n",
              "      <td>BROADWAY ST / GOUGH ST</td>\n",
              "      <td>-122.426703</td>\n",
              "      <td>37.795316</td>\n",
              "      <td>(37.7953163162613, -122.426702502506)</td>\n",
              "      <td>16014707307023</td>\n",
              "    </tr>\n",
              "  </tbody>\n",
              "</table>\n",
              "</div>\n",
              "      <button class=\"colab-df-convert\" onclick=\"convertToInteractive('df-13a752be-a40c-4339-8d7e-18350212442a')\"\n",
              "              title=\"Convert this dataframe to an interactive table.\"\n",
              "              style=\"display:none;\">\n",
              "        \n",
              "  <svg xmlns=\"http://www.w3.org/2000/svg\" height=\"24px\"viewBox=\"0 0 24 24\"\n",
              "       width=\"24px\">\n",
              "    <path d=\"M0 0h24v24H0V0z\" fill=\"none\"/>\n",
              "    <path d=\"M18.56 5.44l.94 2.06.94-2.06 2.06-.94-2.06-.94-.94-2.06-.94 2.06-2.06.94zm-11 1L8.5 8.5l.94-2.06 2.06-.94-2.06-.94L8.5 2.5l-.94 2.06-2.06.94zm10 10l.94 2.06.94-2.06 2.06-.94-2.06-.94-.94-2.06-.94 2.06-2.06.94z\"/><path d=\"M17.41 7.96l-1.37-1.37c-.4-.4-.92-.59-1.43-.59-.52 0-1.04.2-1.43.59L10.3 9.45l-7.72 7.72c-.78.78-.78 2.05 0 2.83L4 21.41c.39.39.9.59 1.41.59.51 0 1.02-.2 1.41-.59l7.78-7.78 2.81-2.81c.8-.78.8-2.07 0-2.86zM5.41 20L4 18.59l7.72-7.72 1.47 1.35L5.41 20z\"/>\n",
              "  </svg>\n",
              "      </button>\n",
              "      \n",
              "  <style>\n",
              "    .colab-df-container {\n",
              "      display:flex;\n",
              "      flex-wrap:wrap;\n",
              "      gap: 12px;\n",
              "    }\n",
              "\n",
              "    .colab-df-convert {\n",
              "      background-color: #E8F0FE;\n",
              "      border: none;\n",
              "      border-radius: 50%;\n",
              "      cursor: pointer;\n",
              "      display: none;\n",
              "      fill: #1967D2;\n",
              "      height: 32px;\n",
              "      padding: 0 0 0 0;\n",
              "      width: 32px;\n",
              "    }\n",
              "\n",
              "    .colab-df-convert:hover {\n",
              "      background-color: #E2EBFA;\n",
              "      box-shadow: 0px 1px 2px rgba(60, 64, 67, 0.3), 0px 1px 3px 1px rgba(60, 64, 67, 0.15);\n",
              "      fill: #174EA6;\n",
              "    }\n",
              "\n",
              "    [theme=dark] .colab-df-convert {\n",
              "      background-color: #3B4455;\n",
              "      fill: #D2E3FC;\n",
              "    }\n",
              "\n",
              "    [theme=dark] .colab-df-convert:hover {\n",
              "      background-color: #434B5C;\n",
              "      box-shadow: 0px 1px 3px 1px rgba(0, 0, 0, 0.15);\n",
              "      filter: drop-shadow(0px 1px 2px rgba(0, 0, 0, 0.3));\n",
              "      fill: #FFFFFF;\n",
              "    }\n",
              "  </style>\n",
              "\n",
              "      <script>\n",
              "        const buttonEl =\n",
              "          document.querySelector('#df-13a752be-a40c-4339-8d7e-18350212442a button.colab-df-convert');\n",
              "        buttonEl.style.display =\n",
              "          google.colab.kernel.accessAllowed ? 'block' : 'none';\n",
              "\n",
              "        async function convertToInteractive(key) {\n",
              "          const element = document.querySelector('#df-13a752be-a40c-4339-8d7e-18350212442a');\n",
              "          const dataTable =\n",
              "            await google.colab.kernel.invokeFunction('convertToInteractive',\n",
              "                                                     [key], {});\n",
              "          if (!dataTable) return;\n",
              "\n",
              "          const docLinkHtml = 'Like what you see? Visit the ' +\n",
              "            '<a target=\"_blank\" href=https://colab.research.google.com/notebooks/data_table.ipynb>data table notebook</a>'\n",
              "            + ' to learn more about interactive tables.';\n",
              "          element.innerHTML = '';\n",
              "          dataTable['output_type'] = 'display_data';\n",
              "          await google.colab.output.renderOutput(dataTable, element);\n",
              "          const docLink = document.createElement('div');\n",
              "          docLink.innerHTML = docLinkHtml;\n",
              "          element.appendChild(docLink);\n",
              "        }\n",
              "      </script>\n",
              "    </div>\n",
              "  </div>\n",
              "  "
            ]
          },
          "metadata": {},
          "execution_count": 10
        }
      ]
    },
    {
      "cell_type": "markdown",
      "source": [
        "Find the zip codes for each incident given the latitude and longitude"
      ],
      "metadata": {
        "id": "YOgqSyHwv4Az"
      }
    },
    {
      "cell_type": "code",
      "source": [
        "crime16['geometry'] = crime16.apply(lambda row: Point(row['X'], row['Y']), axis=1)"
      ],
      "metadata": {
        "id": "qs2tRr8Ht7ju"
      },
      "execution_count": 11,
      "outputs": []
    },
    {
      "cell_type": "code",
      "source": [
        "geo_police_data = geopandas.GeoDataFrame(crime16, geometry='geometry')\n",
        "geo_police_data.crs = {'init': 'epsg:4326'}"
      ],
      "metadata": {
        "colab": {
          "base_uri": "https://localhost:8080/"
        },
        "id": "ek7z5ALCv-Zq",
        "outputId": "e7962df9-a952-4504-b69f-beadb0f911fb"
      },
      "execution_count": 12,
      "outputs": [
        {
          "output_type": "stream",
          "name": "stderr",
          "text": [
            "/usr/local/lib/python3.7/site-packages/pyproj/crs/crs.py:68: FutureWarning: '+init=<authority>:<code>' syntax is deprecated. '<authority>:<code>' is the preferred initialization method. When making the change, be mindful of axis order changes: https://pyproj4.github.io/pyproj/stable/gotchas.html#axis-order-changes-in-proj-6\n",
            "  return _prepare_from_string(\" \".join(pjargs))\n"
          ]
        }
      ]
    },
    {
      "cell_type": "code",
      "source": [
        "sf = geopandas.read_file('https://raw.githubusercontent.com/orlandott/Predictive_Policing/master/zipcodes_geo.json')\n",
        "sf.crs = {'init': 'epsg:4326'}\n",
        "sf = sf.set_geometry('geometry')"
      ],
      "metadata": {
        "colab": {
          "base_uri": "https://localhost:8080/"
        },
        "id": "nW9KPdKdv-Wq",
        "outputId": "249d2618-5169-45e6-e26f-8722834668f3"
      },
      "execution_count": 13,
      "outputs": [
        {
          "output_type": "stream",
          "name": "stderr",
          "text": [
            "/usr/local/lib/python3.7/site-packages/pyproj/crs/crs.py:68: FutureWarning: '+init=<authority>:<code>' syntax is deprecated. '<authority>:<code>' is the preferred initialization method. When making the change, be mindful of axis order changes: https://pyproj4.github.io/pyproj/stable/gotchas.html#axis-order-changes-in-proj-6\n",
            "  return _prepare_from_string(\" \".join(pjargs))\n"
          ]
        }
      ]
    },
    {
      "cell_type": "code",
      "source": [
        "!pip install -q condacolab -q\n",
        "\n",
        "import condacolab\n",
        "\n",
        "condacolab.install()"
      ],
      "metadata": {
        "colab": {
          "base_uri": "https://localhost:8080/"
        },
        "id": "ujg03SEtxoTy",
        "outputId": "fdad1fa7-fa42-4911-85d0-3820dbbdb615"
      },
      "execution_count": 14,
      "outputs": [
        {
          "output_type": "stream",
          "name": "stdout",
          "text": [
            "✨🍰✨ Everything looks OK!\n"
          ]
        }
      ]
    },
    {
      "cell_type": "code",
      "source": [
        "!conda install geopandas\n",
        "\n",
        "import geopandas as gpd"
      ],
      "metadata": {
        "colab": {
          "base_uri": "https://localhost:8080/"
        },
        "id": "-cblUCCnx5xp",
        "outputId": "e47500c1-2345-4b0b-8b15-126e3d2d6c1e"
      },
      "execution_count": 15,
      "outputs": [
        {
          "output_type": "stream",
          "name": "stdout",
          "text": [
            "Collecting package metadata (current_repodata.json): - \b\b\\ \b\b| \b\b/ \b\b- \b\b\\ \b\b| \b\b/ \b\b- \b\b\\ \b\b| \b\b/ \b\b- \b\b\\ \b\b| \b\b/ \b\b- \b\b\\ \b\b| \b\b/ \b\b- \b\b\\ \b\b| \b\b/ \b\b- \b\b\\ \b\b| \b\b/ \b\b- \b\bdone\n",
            "Solving environment: | \b\b/ \b\b- \b\b\\ \b\b| \b\b/ \b\b- \b\b\\ \b\b| \b\b/ \b\b- \b\b\\ \b\b| \b\b/ \b\b- \b\b\\ \b\b| \b\b/ \b\b- \b\b\\ \b\b| \b\b/ \b\b- \b\b\\ \b\b| \b\b/ \b\b- \b\b\\ \b\b| \b\b/ \b\b- \b\b\\ \b\b| \b\b/ \b\b- \b\b\\ \b\b| \b\b/ \b\b- \b\b\\ \b\b| \b\b/ \b\b- \b\b\\ \b\b| \b\bdone\n",
            "\n",
            "# All requested packages already installed.\n",
            "\n"
          ]
        }
      ]
    },
    {
      "cell_type": "code",
      "source": [
        "crime16 = gpd.tools.sjoin(geo_police_data, sf, how='left')"
      ],
      "metadata": {
        "id": "Z6CVXVBkv-UL"
      },
      "execution_count": 16,
      "outputs": []
    },
    {
      "cell_type": "markdown",
      "source": [
        "Find which zip codes, day of week, and hour have the most crimes"
      ],
      "metadata": {
        "id": "dSFQIQkwGrt-"
      }
    },
    {
      "cell_type": "code",
      "source": [
        "day_time_zip_16 = crime16[['Date', 'DayOfWeek', 'Time', 'zip']]"
      ],
      "metadata": {
        "id": "4xKNVMYTv-Rt"
      },
      "execution_count": 17,
      "outputs": []
    },
    {
      "cell_type": "code",
      "source": [
        "day_time_zip_16.loc[:, 'Date'] = pd.to_datetime(day_time_zip_16['Date'])\n",
        "\n",
        "day_time_zip_16.loc[:, 'Hour'] = pd.to_datetime(day_time_zip_16['Time'])\n",
        "day_time_zip_16.loc[:, 'Hour'] = day_time_zip_16.Hour.apply(lambda x: x.hour)"
      ],
      "metadata": {
        "colab": {
          "base_uri": "https://localhost:8080/"
        },
        "id": "jxQpmSDQv-PX",
        "outputId": "9fb312bb-9c34-4ce3-ffa2-078c9b21dea3"
      },
      "execution_count": 18,
      "outputs": [
        {
          "output_type": "stream",
          "name": "stderr",
          "text": [
            "/usr/local/lib/python3.7/site-packages/pandas/core/indexing.py:1951: SettingWithCopyWarning: \n",
            "A value is trying to be set on a copy of a slice from a DataFrame.\n",
            "Try using .loc[row_indexer,col_indexer] = value instead\n",
            "\n",
            "See the caveats in the documentation: https://pandas.pydata.org/pandas-docs/stable/user_guide/indexing.html#returning-a-view-versus-a-copy\n",
            "  self.obj[selected_item_labels] = value\n",
            "/usr/local/lib/python3.7/site-packages/pandas/core/indexing.py:1667: SettingWithCopyWarning: \n",
            "A value is trying to be set on a copy of a slice from a DataFrame.\n",
            "Try using .loc[row_indexer,col_indexer] = value instead\n",
            "\n",
            "See the caveats in the documentation: https://pandas.pydata.org/pandas-docs/stable/user_guide/indexing.html#returning-a-view-versus-a-copy\n",
            "  self.obj[key] = value\n",
            "/usr/local/lib/python3.7/site-packages/pandas/core/indexing.py:1773: SettingWithCopyWarning: \n",
            "A value is trying to be set on a copy of a slice from a DataFrame.\n",
            "Try using .loc[row_indexer,col_indexer] = value instead\n",
            "\n",
            "See the caveats in the documentation: https://pandas.pydata.org/pandas-docs/stable/user_guide/indexing.html#returning-a-view-versus-a-copy\n",
            "  self._setitem_single_column(ilocs[0], value, pi)\n"
          ]
        }
      ]
    },
    {
      "cell_type": "code",
      "source": [
        "day_time_zip_16.head()"
      ],
      "metadata": {
        "colab": {
          "base_uri": "https://localhost:8080/",
          "height": 206
        },
        "id": "0Ra8so3bv-My",
        "outputId": "691c1194-c4e6-47ff-efa6-def4571a4334"
      },
      "execution_count": 19,
      "outputs": [
        {
          "output_type": "execute_result",
          "data": {
            "text/plain": [
              "        Date  DayOfWeek   Time    zip  Hour\n",
              "0 2017-04-19  Wednesday  21:29  94110    21\n",
              "1 2017-03-08  Wednesday  14:28  94103    14\n",
              "2 2017-09-12    Tuesday  09:00  94110     9\n",
              "3 2017-06-01   Thursday  08:51  94112     8\n",
              "4 2017-04-19  Wednesday  21:29  94110    21"
            ],
            "text/html": [
              "\n",
              "  <div id=\"df-0fd75a65-7e8f-478e-9043-6edc98e9150a\">\n",
              "    <div class=\"colab-df-container\">\n",
              "      <div>\n",
              "<style scoped>\n",
              "    .dataframe tbody tr th:only-of-type {\n",
              "        vertical-align: middle;\n",
              "    }\n",
              "\n",
              "    .dataframe tbody tr th {\n",
              "        vertical-align: top;\n",
              "    }\n",
              "\n",
              "    .dataframe thead th {\n",
              "        text-align: right;\n",
              "    }\n",
              "</style>\n",
              "<table border=\"1\" class=\"dataframe\">\n",
              "  <thead>\n",
              "    <tr style=\"text-align: right;\">\n",
              "      <th></th>\n",
              "      <th>Date</th>\n",
              "      <th>DayOfWeek</th>\n",
              "      <th>Time</th>\n",
              "      <th>zip</th>\n",
              "      <th>Hour</th>\n",
              "    </tr>\n",
              "  </thead>\n",
              "  <tbody>\n",
              "    <tr>\n",
              "      <th>0</th>\n",
              "      <td>2017-04-19</td>\n",
              "      <td>Wednesday</td>\n",
              "      <td>21:29</td>\n",
              "      <td>94110</td>\n",
              "      <td>21</td>\n",
              "    </tr>\n",
              "    <tr>\n",
              "      <th>1</th>\n",
              "      <td>2017-03-08</td>\n",
              "      <td>Wednesday</td>\n",
              "      <td>14:28</td>\n",
              "      <td>94103</td>\n",
              "      <td>14</td>\n",
              "    </tr>\n",
              "    <tr>\n",
              "      <th>2</th>\n",
              "      <td>2017-09-12</td>\n",
              "      <td>Tuesday</td>\n",
              "      <td>09:00</td>\n",
              "      <td>94110</td>\n",
              "      <td>9</td>\n",
              "    </tr>\n",
              "    <tr>\n",
              "      <th>3</th>\n",
              "      <td>2017-06-01</td>\n",
              "      <td>Thursday</td>\n",
              "      <td>08:51</td>\n",
              "      <td>94112</td>\n",
              "      <td>8</td>\n",
              "    </tr>\n",
              "    <tr>\n",
              "      <th>4</th>\n",
              "      <td>2017-04-19</td>\n",
              "      <td>Wednesday</td>\n",
              "      <td>21:29</td>\n",
              "      <td>94110</td>\n",
              "      <td>21</td>\n",
              "    </tr>\n",
              "  </tbody>\n",
              "</table>\n",
              "</div>\n",
              "      <button class=\"colab-df-convert\" onclick=\"convertToInteractive('df-0fd75a65-7e8f-478e-9043-6edc98e9150a')\"\n",
              "              title=\"Convert this dataframe to an interactive table.\"\n",
              "              style=\"display:none;\">\n",
              "        \n",
              "  <svg xmlns=\"http://www.w3.org/2000/svg\" height=\"24px\"viewBox=\"0 0 24 24\"\n",
              "       width=\"24px\">\n",
              "    <path d=\"M0 0h24v24H0V0z\" fill=\"none\"/>\n",
              "    <path d=\"M18.56 5.44l.94 2.06.94-2.06 2.06-.94-2.06-.94-.94-2.06-.94 2.06-2.06.94zm-11 1L8.5 8.5l.94-2.06 2.06-.94-2.06-.94L8.5 2.5l-.94 2.06-2.06.94zm10 10l.94 2.06.94-2.06 2.06-.94-2.06-.94-.94-2.06-.94 2.06-2.06.94z\"/><path d=\"M17.41 7.96l-1.37-1.37c-.4-.4-.92-.59-1.43-.59-.52 0-1.04.2-1.43.59L10.3 9.45l-7.72 7.72c-.78.78-.78 2.05 0 2.83L4 21.41c.39.39.9.59 1.41.59.51 0 1.02-.2 1.41-.59l7.78-7.78 2.81-2.81c.8-.78.8-2.07 0-2.86zM5.41 20L4 18.59l7.72-7.72 1.47 1.35L5.41 20z\"/>\n",
              "  </svg>\n",
              "      </button>\n",
              "      \n",
              "  <style>\n",
              "    .colab-df-container {\n",
              "      display:flex;\n",
              "      flex-wrap:wrap;\n",
              "      gap: 12px;\n",
              "    }\n",
              "\n",
              "    .colab-df-convert {\n",
              "      background-color: #E8F0FE;\n",
              "      border: none;\n",
              "      border-radius: 50%;\n",
              "      cursor: pointer;\n",
              "      display: none;\n",
              "      fill: #1967D2;\n",
              "      height: 32px;\n",
              "      padding: 0 0 0 0;\n",
              "      width: 32px;\n",
              "    }\n",
              "\n",
              "    .colab-df-convert:hover {\n",
              "      background-color: #E2EBFA;\n",
              "      box-shadow: 0px 1px 2px rgba(60, 64, 67, 0.3), 0px 1px 3px 1px rgba(60, 64, 67, 0.15);\n",
              "      fill: #174EA6;\n",
              "    }\n",
              "\n",
              "    [theme=dark] .colab-df-convert {\n",
              "      background-color: #3B4455;\n",
              "      fill: #D2E3FC;\n",
              "    }\n",
              "\n",
              "    [theme=dark] .colab-df-convert:hover {\n",
              "      background-color: #434B5C;\n",
              "      box-shadow: 0px 1px 3px 1px rgba(0, 0, 0, 0.15);\n",
              "      filter: drop-shadow(0px 1px 2px rgba(0, 0, 0, 0.3));\n",
              "      fill: #FFFFFF;\n",
              "    }\n",
              "  </style>\n",
              "\n",
              "      <script>\n",
              "        const buttonEl =\n",
              "          document.querySelector('#df-0fd75a65-7e8f-478e-9043-6edc98e9150a button.colab-df-convert');\n",
              "        buttonEl.style.display =\n",
              "          google.colab.kernel.accessAllowed ? 'block' : 'none';\n",
              "\n",
              "        async function convertToInteractive(key) {\n",
              "          const element = document.querySelector('#df-0fd75a65-7e8f-478e-9043-6edc98e9150a');\n",
              "          const dataTable =\n",
              "            await google.colab.kernel.invokeFunction('convertToInteractive',\n",
              "                                                     [key], {});\n",
              "          if (!dataTable) return;\n",
              "\n",
              "          const docLinkHtml = 'Like what you see? Visit the ' +\n",
              "            '<a target=\"_blank\" href=https://colab.research.google.com/notebooks/data_table.ipynb>data table notebook</a>'\n",
              "            + ' to learn more about interactive tables.';\n",
              "          element.innerHTML = '';\n",
              "          dataTable['output_type'] = 'display_data';\n",
              "          await google.colab.output.renderOutput(dataTable, element);\n",
              "          const docLink = document.createElement('div');\n",
              "          docLink.innerHTML = docLinkHtml;\n",
              "          element.appendChild(docLink);\n",
              "        }\n",
              "      </script>\n",
              "    </div>\n",
              "  </div>\n",
              "  "
            ]
          },
          "metadata": {},
          "execution_count": 19
        }
      ]
    },
    {
      "cell_type": "markdown",
      "source": [
        "Remove data from November and December because I don't have that data for 2017 to compare it to"
      ],
      "metadata": {
        "id": "o_c2M8hjG4RM"
      }
    },
    {
      "cell_type": "code",
      "source": [
        "day_time_zip_16_final = day_time_zip_16[day_time_zip_16.Date.dt.month < 11]"
      ],
      "metadata": {
        "id": "sK_mKxYyv-CA"
      },
      "execution_count": 20,
      "outputs": []
    },
    {
      "cell_type": "markdown",
      "source": [
        "Combine all the crimes into hours and days and zip codes"
      ],
      "metadata": {
        "id": "b_FX8ptPG_Qy"
      }
    },
    {
      "cell_type": "code",
      "source": [
        "day_time_zip_16_final = day_time_zip_16[['DayOfWeek', 'zip', 'Hour']]"
      ],
      "metadata": {
        "id": "w37xIJ6KG8DG"
      },
      "execution_count": 21,
      "outputs": []
    },
    {
      "cell_type": "code",
      "source": [
        "day_time_zip_16_final.loc[:, 'Crimes'] = 1"
      ],
      "metadata": {
        "colab": {
          "base_uri": "https://localhost:8080/"
        },
        "id": "fOqkH6EzG7_m",
        "outputId": "5d814e1e-33a1-4394-c36e-5d264d033933"
      },
      "execution_count": 22,
      "outputs": [
        {
          "output_type": "stream",
          "name": "stderr",
          "text": [
            "/usr/local/lib/python3.7/site-packages/pandas/core/indexing.py:1667: SettingWithCopyWarning: \n",
            "A value is trying to be set on a copy of a slice from a DataFrame.\n",
            "Try using .loc[row_indexer,col_indexer] = value instead\n",
            "\n",
            "See the caveats in the documentation: https://pandas.pydata.org/pandas-docs/stable/user_guide/indexing.html#returning-a-view-versus-a-copy\n",
            "  self.obj[key] = value\n"
          ]
        }
      ]
    },
    {
      "cell_type": "code",
      "source": [
        "hour_totals_16 = day_time_zip_16_final.groupby(['DayOfWeek', 'zip', 'Hour']).sum().reset_index()"
      ],
      "metadata": {
        "id": "gqBMmFC5G78r"
      },
      "execution_count": 23,
      "outputs": []
    },
    {
      "cell_type": "code",
      "source": [
        "hour_totals_16.sort_values('Crimes', ascending = False).head()"
      ],
      "metadata": {
        "colab": {
          "base_uri": "https://localhost:8080/",
          "height": 206
        },
        "id": "D6k_MhNMG76c",
        "outputId": "240594a2-bdc8-415c-fbe8-d2a0f2dfb5fa"
      },
      "execution_count": 24,
      "outputs": [
        {
          "output_type": "execute_result",
          "data": {
            "text/plain": [
              "     DayOfWeek    zip  Hour  Crimes\n",
              "2465  Thursday  94103    18     227\n",
              "2466  Thursday  94103    19     220\n",
              "41      Friday  94103    17     213\n",
              "3067   Tuesday  94103    18     213\n",
              "44      Friday  94103    20     201"
            ],
            "text/html": [
              "\n",
              "  <div id=\"df-bd95511f-a40e-41b4-a2b4-7c4528559feb\">\n",
              "    <div class=\"colab-df-container\">\n",
              "      <div>\n",
              "<style scoped>\n",
              "    .dataframe tbody tr th:only-of-type {\n",
              "        vertical-align: middle;\n",
              "    }\n",
              "\n",
              "    .dataframe tbody tr th {\n",
              "        vertical-align: top;\n",
              "    }\n",
              "\n",
              "    .dataframe thead th {\n",
              "        text-align: right;\n",
              "    }\n",
              "</style>\n",
              "<table border=\"1\" class=\"dataframe\">\n",
              "  <thead>\n",
              "    <tr style=\"text-align: right;\">\n",
              "      <th></th>\n",
              "      <th>DayOfWeek</th>\n",
              "      <th>zip</th>\n",
              "      <th>Hour</th>\n",
              "      <th>Crimes</th>\n",
              "    </tr>\n",
              "  </thead>\n",
              "  <tbody>\n",
              "    <tr>\n",
              "      <th>2465</th>\n",
              "      <td>Thursday</td>\n",
              "      <td>94103</td>\n",
              "      <td>18</td>\n",
              "      <td>227</td>\n",
              "    </tr>\n",
              "    <tr>\n",
              "      <th>2466</th>\n",
              "      <td>Thursday</td>\n",
              "      <td>94103</td>\n",
              "      <td>19</td>\n",
              "      <td>220</td>\n",
              "    </tr>\n",
              "    <tr>\n",
              "      <th>41</th>\n",
              "      <td>Friday</td>\n",
              "      <td>94103</td>\n",
              "      <td>17</td>\n",
              "      <td>213</td>\n",
              "    </tr>\n",
              "    <tr>\n",
              "      <th>3067</th>\n",
              "      <td>Tuesday</td>\n",
              "      <td>94103</td>\n",
              "      <td>18</td>\n",
              "      <td>213</td>\n",
              "    </tr>\n",
              "    <tr>\n",
              "      <th>44</th>\n",
              "      <td>Friday</td>\n",
              "      <td>94103</td>\n",
              "      <td>20</td>\n",
              "      <td>201</td>\n",
              "    </tr>\n",
              "  </tbody>\n",
              "</table>\n",
              "</div>\n",
              "      <button class=\"colab-df-convert\" onclick=\"convertToInteractive('df-bd95511f-a40e-41b4-a2b4-7c4528559feb')\"\n",
              "              title=\"Convert this dataframe to an interactive table.\"\n",
              "              style=\"display:none;\">\n",
              "        \n",
              "  <svg xmlns=\"http://www.w3.org/2000/svg\" height=\"24px\"viewBox=\"0 0 24 24\"\n",
              "       width=\"24px\">\n",
              "    <path d=\"M0 0h24v24H0V0z\" fill=\"none\"/>\n",
              "    <path d=\"M18.56 5.44l.94 2.06.94-2.06 2.06-.94-2.06-.94-.94-2.06-.94 2.06-2.06.94zm-11 1L8.5 8.5l.94-2.06 2.06-.94-2.06-.94L8.5 2.5l-.94 2.06-2.06.94zm10 10l.94 2.06.94-2.06 2.06-.94-2.06-.94-.94-2.06-.94 2.06-2.06.94z\"/><path d=\"M17.41 7.96l-1.37-1.37c-.4-.4-.92-.59-1.43-.59-.52 0-1.04.2-1.43.59L10.3 9.45l-7.72 7.72c-.78.78-.78 2.05 0 2.83L4 21.41c.39.39.9.59 1.41.59.51 0 1.02-.2 1.41-.59l7.78-7.78 2.81-2.81c.8-.78.8-2.07 0-2.86zM5.41 20L4 18.59l7.72-7.72 1.47 1.35L5.41 20z\"/>\n",
              "  </svg>\n",
              "      </button>\n",
              "      \n",
              "  <style>\n",
              "    .colab-df-container {\n",
              "      display:flex;\n",
              "      flex-wrap:wrap;\n",
              "      gap: 12px;\n",
              "    }\n",
              "\n",
              "    .colab-df-convert {\n",
              "      background-color: #E8F0FE;\n",
              "      border: none;\n",
              "      border-radius: 50%;\n",
              "      cursor: pointer;\n",
              "      display: none;\n",
              "      fill: #1967D2;\n",
              "      height: 32px;\n",
              "      padding: 0 0 0 0;\n",
              "      width: 32px;\n",
              "    }\n",
              "\n",
              "    .colab-df-convert:hover {\n",
              "      background-color: #E2EBFA;\n",
              "      box-shadow: 0px 1px 2px rgba(60, 64, 67, 0.3), 0px 1px 3px 1px rgba(60, 64, 67, 0.15);\n",
              "      fill: #174EA6;\n",
              "    }\n",
              "\n",
              "    [theme=dark] .colab-df-convert {\n",
              "      background-color: #3B4455;\n",
              "      fill: #D2E3FC;\n",
              "    }\n",
              "\n",
              "    [theme=dark] .colab-df-convert:hover {\n",
              "      background-color: #434B5C;\n",
              "      box-shadow: 0px 1px 3px 1px rgba(0, 0, 0, 0.15);\n",
              "      filter: drop-shadow(0px 1px 2px rgba(0, 0, 0, 0.3));\n",
              "      fill: #FFFFFF;\n",
              "    }\n",
              "  </style>\n",
              "\n",
              "      <script>\n",
              "        const buttonEl =\n",
              "          document.querySelector('#df-bd95511f-a40e-41b4-a2b4-7c4528559feb button.colab-df-convert');\n",
              "        buttonEl.style.display =\n",
              "          google.colab.kernel.accessAllowed ? 'block' : 'none';\n",
              "\n",
              "        async function convertToInteractive(key) {\n",
              "          const element = document.querySelector('#df-bd95511f-a40e-41b4-a2b4-7c4528559feb');\n",
              "          const dataTable =\n",
              "            await google.colab.kernel.invokeFunction('convertToInteractive',\n",
              "                                                     [key], {});\n",
              "          if (!dataTable) return;\n",
              "\n",
              "          const docLinkHtml = 'Like what you see? Visit the ' +\n",
              "            '<a target=\"_blank\" href=https://colab.research.google.com/notebooks/data_table.ipynb>data table notebook</a>'\n",
              "            + ' to learn more about interactive tables.';\n",
              "          element.innerHTML = '';\n",
              "          dataTable['output_type'] = 'display_data';\n",
              "          await google.colab.output.renderOutput(dataTable, element);\n",
              "          const docLink = document.createElement('div');\n",
              "          docLink.innerHTML = docLinkHtml;\n",
              "          element.appendChild(docLink);\n",
              "        }\n",
              "      </script>\n",
              "    </div>\n",
              "  </div>\n",
              "  "
            ]
          },
          "metadata": {},
          "execution_count": 24
        }
      ]
    },
    {
      "cell_type": "markdown",
      "source": [
        "Create dummy variables to start doing analysis"
      ],
      "metadata": {
        "id": "2YNyPZIdHUod"
      }
    },
    {
      "cell_type": "code",
      "source": [
        "hour_totals_16 = hour_totals_16[['Crimes', 'Hour', 'DayOfWeek', 'zip']]"
      ],
      "metadata": {
        "id": "pExl0mTgG7uU"
      },
      "execution_count": 25,
      "outputs": []
    },
    {
      "cell_type": "code",
      "source": [
        "totals_dummies_16 = pd.get_dummies(hour_totals_16)"
      ],
      "metadata": {
        "id": "wYAd0nzCHWbV"
      },
      "execution_count": 26,
      "outputs": []
    },
    {
      "cell_type": "code",
      "source": [
        "X_16 = totals_dummies_16.iloc[:, 1:]\n",
        "y_16 = totals_dummies_16.iloc[:, 0]"
      ],
      "metadata": {
        "id": "dFIgQ2JrHWdk"
      },
      "execution_count": 27,
      "outputs": []
    },
    {
      "cell_type": "markdown",
      "source": [
        "Linear Regression with 2016 data"
      ],
      "metadata": {
        "id": "QNEoFRZYHeGx"
      }
    },
    {
      "cell_type": "code",
      "source": [
        "import statsmodels.regression.linear_model as sm"
      ],
      "metadata": {
        "id": "f_UIa_82Hwu3"
      },
      "execution_count": 29,
      "outputs": []
    },
    {
      "cell_type": "code",
      "source": [
        "linear_regression = sm.OLS(y_16, X_16)\n",
        "results = linear_regression.fit()"
      ],
      "metadata": {
        "id": "F_OHnskKHWg9"
      },
      "execution_count": 30,
      "outputs": []
    },
    {
      "cell_type": "code",
      "source": [
        "results.summary()"
      ],
      "metadata": {
        "colab": {
          "base_uri": "https://localhost:8080/",
          "height": 1000
        },
        "id": "0h7KxukCH0uh",
        "outputId": "5005ebe6-9aa4-4158-f24c-7abf9dce388e"
      },
      "execution_count": 31,
      "outputs": [
        {
          "output_type": "execute_result",
          "data": {
            "text/plain": [
              "<class 'statsmodels.iolib.summary.Summary'>\n",
              "\"\"\"\n",
              "                            OLS Regression Results                            \n",
              "==============================================================================\n",
              "Dep. Variable:                 Crimes   R-squared:                       0.740\n",
              "Model:                            OLS   Adj. R-squared:                  0.738\n",
              "Method:                 Least Squares   F-statistic:                     372.8\n",
              "Date:                Mon, 06 Jun 2022   Prob (F-statistic):               0.00\n",
              "Time:                        22:25:24   Log-Likelihood:                -17573.\n",
              "No. Observations:                4230   AIC:                         3.521e+04\n",
              "Df Residuals:                    4197   BIC:                         3.542e+04\n",
              "Df Model:                          32                                         \n",
              "Covariance Type:            nonrobust                                         \n",
              "=======================================================================================\n",
              "                          coef    std err          t      P>|t|      [0.025      0.975]\n",
              "---------------------------------------------------------------------------------------\n",
              "Hour                    1.2007      0.035     34.802      0.000       1.133       1.268\n",
              "DayOfWeek_Friday       12.4239      0.689     18.023      0.000      11.072      13.775\n",
              "DayOfWeek_Monday       10.6984      0.689     15.517      0.000       9.347      12.050\n",
              "DayOfWeek_Saturday     11.8963      0.688     17.290      0.000      10.547      13.245\n",
              "DayOfWeek_Sunday        9.8878      0.687     14.397      0.000       8.541      11.234\n",
              "DayOfWeek_Thursday     11.1056      0.689     16.108      0.000       9.754      12.457\n",
              "DayOfWeek_Tuesday      10.4829      0.692     15.145      0.000       9.126      11.840\n",
              "DayOfWeek_Wednesday    10.9756      0.689     15.930      0.000       9.625      12.326\n",
              "zip_94102              44.1661      1.175     37.581      0.000      41.862      46.470\n",
              "zip_94103              91.1423      1.175     77.552      0.000      88.838      93.446\n",
              "zip_94104             -21.7172      1.264    -17.178      0.000     -24.196     -19.239\n",
              "zip_94105             -10.6136      1.175     -9.031      0.000     -12.918      -8.310\n",
              "zip_94107               8.4995      1.175      7.232      0.000       6.195      10.804\n",
              "zip_94108              -5.7935      1.179     -4.915      0.000      -8.105      -3.482\n",
              "zip_94109              28.7316      1.175     24.447      0.000      26.428      31.036\n",
              "zip_94110              44.3209      1.175     37.712      0.000      42.017      46.625\n",
              "zip_94111             -10.8286      1.179     -9.186      0.000     -13.140      -8.518\n",
              "zip_94112               5.3566      1.175      4.558      0.000       3.053       7.661\n",
              "zip_94114               1.4459      1.175      1.230      0.219      -0.858       3.750\n",
              "zip_94115               4.3507      1.175      3.702      0.000       2.047       6.655\n",
              "zip_94116              -9.2508      1.182     -7.824      0.000     -11.569      -6.933\n",
              "zip_94117               3.3090      1.175      2.816      0.005       1.005       5.613\n",
              "zip_94118              -4.8372      1.179     -4.104      0.000      -7.148      -2.526\n",
              "zip_94121              -8.5841      1.186     -7.239      0.000     -10.909      -6.259\n",
              "zip_94122              -1.8339      1.175     -1.560      0.119      -4.138       0.470\n",
              "zip_94123              -6.6732      1.175     -5.678      0.000      -8.977      -4.369\n",
              "zip_94124              14.3268      1.175     12.191      0.000      12.023      16.631\n",
              "zip_94127             -19.0043      1.201    -15.829      0.000     -21.358     -16.651\n",
              "zip_94130             -23.7804      1.494    -15.918      0.000     -26.709     -20.852\n",
              "zip_94131             -14.3452      1.190    -12.060      0.000     -16.677     -12.013\n",
              "zip_94132              -9.0239      1.179     -7.656      0.000     -11.335      -6.713\n",
              "zip_94133               6.9161      1.175      5.885      0.000       4.612       9.220\n",
              "zip_94134              -6.7994      1.182     -5.751      0.000      -9.117      -4.482\n",
              "zip_94158             -22.0098      1.286    -17.117      0.000     -24.531     -19.489\n",
              "==============================================================================\n",
              "Omnibus:                      564.099   Durbin-Watson:                   0.791\n",
              "Prob(Omnibus):                  0.000   Jarque-Bera (JB):             7141.753\n",
              "Skew:                          -0.054   Prob(JB):                         0.00\n",
              "Kurtosis:                       9.365   Cond. No.                     9.18e+16\n",
              "==============================================================================\n",
              "\n",
              "Warnings:\n",
              "[1] Standard Errors assume that the covariance matrix of the errors is correctly specified.\n",
              "[2] The smallest eigenvalue is 9.16e-29. This might indicate that there are\n",
              "strong multicollinearity problems or that the design matrix is singular.\n",
              "\"\"\""
            ],
            "text/html": [
              "<table class=\"simpletable\">\n",
              "<caption>OLS Regression Results</caption>\n",
              "<tr>\n",
              "  <th>Dep. Variable:</th>         <td>Crimes</td>      <th>  R-squared:         </th> <td>   0.740</td> \n",
              "</tr>\n",
              "<tr>\n",
              "  <th>Model:</th>                   <td>OLS</td>       <th>  Adj. R-squared:    </th> <td>   0.738</td> \n",
              "</tr>\n",
              "<tr>\n",
              "  <th>Method:</th>             <td>Least Squares</td>  <th>  F-statistic:       </th> <td>   372.8</td> \n",
              "</tr>\n",
              "<tr>\n",
              "  <th>Date:</th>             <td>Mon, 06 Jun 2022</td> <th>  Prob (F-statistic):</th>  <td>  0.00</td>  \n",
              "</tr>\n",
              "<tr>\n",
              "  <th>Time:</th>                 <td>22:25:24</td>     <th>  Log-Likelihood:    </th> <td> -17573.</td> \n",
              "</tr>\n",
              "<tr>\n",
              "  <th>No. Observations:</th>      <td>  4230</td>      <th>  AIC:               </th> <td>3.521e+04</td>\n",
              "</tr>\n",
              "<tr>\n",
              "  <th>Df Residuals:</th>          <td>  4197</td>      <th>  BIC:               </th> <td>3.542e+04</td>\n",
              "</tr>\n",
              "<tr>\n",
              "  <th>Df Model:</th>              <td>    32</td>      <th>                     </th>     <td> </td>    \n",
              "</tr>\n",
              "<tr>\n",
              "  <th>Covariance Type:</th>      <td>nonrobust</td>    <th>                     </th>     <td> </td>    \n",
              "</tr>\n",
              "</table>\n",
              "<table class=\"simpletable\">\n",
              "<tr>\n",
              "           <td></td>              <th>coef</th>     <th>std err</th>      <th>t</th>      <th>P>|t|</th>  <th>[0.025</th>    <th>0.975]</th>  \n",
              "</tr>\n",
              "<tr>\n",
              "  <th>Hour</th>                <td>    1.2007</td> <td>    0.035</td> <td>   34.802</td> <td> 0.000</td> <td>    1.133</td> <td>    1.268</td>\n",
              "</tr>\n",
              "<tr>\n",
              "  <th>DayOfWeek_Friday</th>    <td>   12.4239</td> <td>    0.689</td> <td>   18.023</td> <td> 0.000</td> <td>   11.072</td> <td>   13.775</td>\n",
              "</tr>\n",
              "<tr>\n",
              "  <th>DayOfWeek_Monday</th>    <td>   10.6984</td> <td>    0.689</td> <td>   15.517</td> <td> 0.000</td> <td>    9.347</td> <td>   12.050</td>\n",
              "</tr>\n",
              "<tr>\n",
              "  <th>DayOfWeek_Saturday</th>  <td>   11.8963</td> <td>    0.688</td> <td>   17.290</td> <td> 0.000</td> <td>   10.547</td> <td>   13.245</td>\n",
              "</tr>\n",
              "<tr>\n",
              "  <th>DayOfWeek_Sunday</th>    <td>    9.8878</td> <td>    0.687</td> <td>   14.397</td> <td> 0.000</td> <td>    8.541</td> <td>   11.234</td>\n",
              "</tr>\n",
              "<tr>\n",
              "  <th>DayOfWeek_Thursday</th>  <td>   11.1056</td> <td>    0.689</td> <td>   16.108</td> <td> 0.000</td> <td>    9.754</td> <td>   12.457</td>\n",
              "</tr>\n",
              "<tr>\n",
              "  <th>DayOfWeek_Tuesday</th>   <td>   10.4829</td> <td>    0.692</td> <td>   15.145</td> <td> 0.000</td> <td>    9.126</td> <td>   11.840</td>\n",
              "</tr>\n",
              "<tr>\n",
              "  <th>DayOfWeek_Wednesday</th> <td>   10.9756</td> <td>    0.689</td> <td>   15.930</td> <td> 0.000</td> <td>    9.625</td> <td>   12.326</td>\n",
              "</tr>\n",
              "<tr>\n",
              "  <th>zip_94102</th>           <td>   44.1661</td> <td>    1.175</td> <td>   37.581</td> <td> 0.000</td> <td>   41.862</td> <td>   46.470</td>\n",
              "</tr>\n",
              "<tr>\n",
              "  <th>zip_94103</th>           <td>   91.1423</td> <td>    1.175</td> <td>   77.552</td> <td> 0.000</td> <td>   88.838</td> <td>   93.446</td>\n",
              "</tr>\n",
              "<tr>\n",
              "  <th>zip_94104</th>           <td>  -21.7172</td> <td>    1.264</td> <td>  -17.178</td> <td> 0.000</td> <td>  -24.196</td> <td>  -19.239</td>\n",
              "</tr>\n",
              "<tr>\n",
              "  <th>zip_94105</th>           <td>  -10.6136</td> <td>    1.175</td> <td>   -9.031</td> <td> 0.000</td> <td>  -12.918</td> <td>   -8.310</td>\n",
              "</tr>\n",
              "<tr>\n",
              "  <th>zip_94107</th>           <td>    8.4995</td> <td>    1.175</td> <td>    7.232</td> <td> 0.000</td> <td>    6.195</td> <td>   10.804</td>\n",
              "</tr>\n",
              "<tr>\n",
              "  <th>zip_94108</th>           <td>   -5.7935</td> <td>    1.179</td> <td>   -4.915</td> <td> 0.000</td> <td>   -8.105</td> <td>   -3.482</td>\n",
              "</tr>\n",
              "<tr>\n",
              "  <th>zip_94109</th>           <td>   28.7316</td> <td>    1.175</td> <td>   24.447</td> <td> 0.000</td> <td>   26.428</td> <td>   31.036</td>\n",
              "</tr>\n",
              "<tr>\n",
              "  <th>zip_94110</th>           <td>   44.3209</td> <td>    1.175</td> <td>   37.712</td> <td> 0.000</td> <td>   42.017</td> <td>   46.625</td>\n",
              "</tr>\n",
              "<tr>\n",
              "  <th>zip_94111</th>           <td>  -10.8286</td> <td>    1.179</td> <td>   -9.186</td> <td> 0.000</td> <td>  -13.140</td> <td>   -8.518</td>\n",
              "</tr>\n",
              "<tr>\n",
              "  <th>zip_94112</th>           <td>    5.3566</td> <td>    1.175</td> <td>    4.558</td> <td> 0.000</td> <td>    3.053</td> <td>    7.661</td>\n",
              "</tr>\n",
              "<tr>\n",
              "  <th>zip_94114</th>           <td>    1.4459</td> <td>    1.175</td> <td>    1.230</td> <td> 0.219</td> <td>   -0.858</td> <td>    3.750</td>\n",
              "</tr>\n",
              "<tr>\n",
              "  <th>zip_94115</th>           <td>    4.3507</td> <td>    1.175</td> <td>    3.702</td> <td> 0.000</td> <td>    2.047</td> <td>    6.655</td>\n",
              "</tr>\n",
              "<tr>\n",
              "  <th>zip_94116</th>           <td>   -9.2508</td> <td>    1.182</td> <td>   -7.824</td> <td> 0.000</td> <td>  -11.569</td> <td>   -6.933</td>\n",
              "</tr>\n",
              "<tr>\n",
              "  <th>zip_94117</th>           <td>    3.3090</td> <td>    1.175</td> <td>    2.816</td> <td> 0.005</td> <td>    1.005</td> <td>    5.613</td>\n",
              "</tr>\n",
              "<tr>\n",
              "  <th>zip_94118</th>           <td>   -4.8372</td> <td>    1.179</td> <td>   -4.104</td> <td> 0.000</td> <td>   -7.148</td> <td>   -2.526</td>\n",
              "</tr>\n",
              "<tr>\n",
              "  <th>zip_94121</th>           <td>   -8.5841</td> <td>    1.186</td> <td>   -7.239</td> <td> 0.000</td> <td>  -10.909</td> <td>   -6.259</td>\n",
              "</tr>\n",
              "<tr>\n",
              "  <th>zip_94122</th>           <td>   -1.8339</td> <td>    1.175</td> <td>   -1.560</td> <td> 0.119</td> <td>   -4.138</td> <td>    0.470</td>\n",
              "</tr>\n",
              "<tr>\n",
              "  <th>zip_94123</th>           <td>   -6.6732</td> <td>    1.175</td> <td>   -5.678</td> <td> 0.000</td> <td>   -8.977</td> <td>   -4.369</td>\n",
              "</tr>\n",
              "<tr>\n",
              "  <th>zip_94124</th>           <td>   14.3268</td> <td>    1.175</td> <td>   12.191</td> <td> 0.000</td> <td>   12.023</td> <td>   16.631</td>\n",
              "</tr>\n",
              "<tr>\n",
              "  <th>zip_94127</th>           <td>  -19.0043</td> <td>    1.201</td> <td>  -15.829</td> <td> 0.000</td> <td>  -21.358</td> <td>  -16.651</td>\n",
              "</tr>\n",
              "<tr>\n",
              "  <th>zip_94130</th>           <td>  -23.7804</td> <td>    1.494</td> <td>  -15.918</td> <td> 0.000</td> <td>  -26.709</td> <td>  -20.852</td>\n",
              "</tr>\n",
              "<tr>\n",
              "  <th>zip_94131</th>           <td>  -14.3452</td> <td>    1.190</td> <td>  -12.060</td> <td> 0.000</td> <td>  -16.677</td> <td>  -12.013</td>\n",
              "</tr>\n",
              "<tr>\n",
              "  <th>zip_94132</th>           <td>   -9.0239</td> <td>    1.179</td> <td>   -7.656</td> <td> 0.000</td> <td>  -11.335</td> <td>   -6.713</td>\n",
              "</tr>\n",
              "<tr>\n",
              "  <th>zip_94133</th>           <td>    6.9161</td> <td>    1.175</td> <td>    5.885</td> <td> 0.000</td> <td>    4.612</td> <td>    9.220</td>\n",
              "</tr>\n",
              "<tr>\n",
              "  <th>zip_94134</th>           <td>   -6.7994</td> <td>    1.182</td> <td>   -5.751</td> <td> 0.000</td> <td>   -9.117</td> <td>   -4.482</td>\n",
              "</tr>\n",
              "<tr>\n",
              "  <th>zip_94158</th>           <td>  -22.0098</td> <td>    1.286</td> <td>  -17.117</td> <td> 0.000</td> <td>  -24.531</td> <td>  -19.489</td>\n",
              "</tr>\n",
              "</table>\n",
              "<table class=\"simpletable\">\n",
              "<tr>\n",
              "  <th>Omnibus:</th>       <td>564.099</td> <th>  Durbin-Watson:     </th> <td>   0.791</td>\n",
              "</tr>\n",
              "<tr>\n",
              "  <th>Prob(Omnibus):</th> <td> 0.000</td>  <th>  Jarque-Bera (JB):  </th> <td>7141.753</td>\n",
              "</tr>\n",
              "<tr>\n",
              "  <th>Skew:</th>          <td>-0.054</td>  <th>  Prob(JB):          </th> <td>    0.00</td>\n",
              "</tr>\n",
              "<tr>\n",
              "  <th>Kurtosis:</th>      <td> 9.365</td>  <th>  Cond. No.          </th> <td>9.18e+16</td>\n",
              "</tr>\n",
              "</table><br/><br/>Warnings:<br/>[1] Standard Errors assume that the covariance matrix of the errors is correctly specified.<br/>[2] The smallest eigenvalue is 9.16e-29. This might indicate that there are<br/>strong multicollinearity problems or that the design matrix is singular."
            ]
          },
          "metadata": {},
          "execution_count": 31
        }
      ]
    },
    {
      "cell_type": "markdown",
      "source": [
        "Test it with new 2017 data"
      ],
      "metadata": {
        "id": "3fzlrfm_H-SX"
      }
    },
    {
      "cell_type": "markdown",
      "source": [
        "Find the zip codes for each incident given the latitude and longitude"
      ],
      "metadata": {
        "id": "yc6A9fxvIDUf"
      }
    },
    {
      "cell_type": "code",
      "source": [
        "crime17['geometry'] = crime17.apply(lambda row: Point(row['X'], row['Y']), axis=1)"
      ],
      "metadata": {
        "id": "xU0AkppPH0rE"
      },
      "execution_count": 32,
      "outputs": []
    },
    {
      "cell_type": "code",
      "source": [
        "geo_police_data = geopandas.GeoDataFrame(crime17, geometry='geometry')\n",
        "geo_police_data.crs = {'init': 'epsg:4326'}"
      ],
      "metadata": {
        "colab": {
          "base_uri": "https://localhost:8080/"
        },
        "id": "SVCC96DEH0je",
        "outputId": "d27c57a2-67e3-486f-e7c1-dc3db8a1a592"
      },
      "execution_count": 33,
      "outputs": [
        {
          "output_type": "stream",
          "name": "stderr",
          "text": [
            "/usr/local/lib/python3.7/site-packages/pyproj/crs/crs.py:68: FutureWarning: '+init=<authority>:<code>' syntax is deprecated. '<authority>:<code>' is the preferred initialization method. When making the change, be mindful of axis order changes: https://pyproj4.github.io/pyproj/stable/gotchas.html#axis-order-changes-in-proj-6\n",
            "  return _prepare_from_string(\" \".join(pjargs))\n"
          ]
        }
      ]
    },
    {
      "cell_type": "code",
      "source": [
        "sf = geopandas.read_file('https://raw.githubusercontent.com/orlandott/Predictive_Policing/master/zipcodes_geo.json')\n",
        "sf.crs = {'init': 'epsg:4326'}\n",
        "sf = sf.set_geometry('geometry')"
      ],
      "metadata": {
        "colab": {
          "base_uri": "https://localhost:8080/"
        },
        "id": "We2m77ymIOFv",
        "outputId": "e10e2b97-c579-41b6-c299-98bdc8d9fe15"
      },
      "execution_count": 35,
      "outputs": [
        {
          "output_type": "stream",
          "name": "stderr",
          "text": [
            "/usr/local/lib/python3.7/site-packages/pyproj/crs/crs.py:68: FutureWarning: '+init=<authority>:<code>' syntax is deprecated. '<authority>:<code>' is the preferred initialization method. When making the change, be mindful of axis order changes: https://pyproj4.github.io/pyproj/stable/gotchas.html#axis-order-changes-in-proj-6\n",
            "  return _prepare_from_string(\" \".join(pjargs))\n"
          ]
        }
      ]
    },
    {
      "cell_type": "code",
      "source": [
        "crime17 = gpd.tools.sjoin(geo_police_data, sf, how='left')"
      ],
      "metadata": {
        "id": "4UYFvSTfIN_d"
      },
      "execution_count": 36,
      "outputs": []
    },
    {
      "cell_type": "markdown",
      "source": [
        "Find which zip codes, day of week, and hour have the most crimes"
      ],
      "metadata": {
        "id": "f2JZvU0FIqOq"
      }
    },
    {
      "cell_type": "code",
      "source": [
        "day_time_zip_17 = crime17[['DayOfWeek', 'Time', 'zip']]"
      ],
      "metadata": {
        "id": "gZ8PH5SDIN79"
      },
      "execution_count": 37,
      "outputs": []
    },
    {
      "cell_type": "code",
      "source": [
        "day_time_zip_17['Hour'] = pd.to_datetime(day_time_zip_17['Time'])\n",
        "day_time_zip_17['Hour'] = day_time_zip_17.Hour.apply(lambda x: x.hour)"
      ],
      "metadata": {
        "colab": {
          "base_uri": "https://localhost:8080/"
        },
        "id": "sL2gtok2IN4g",
        "outputId": "ebaf1025-1bc3-49c7-ec04-02cc73385444"
      },
      "execution_count": 38,
      "outputs": [
        {
          "output_type": "stream",
          "name": "stderr",
          "text": [
            "/usr/local/lib/python3.7/dist-packages/ipykernel_launcher.py:1: SettingWithCopyWarning: \n",
            "A value is trying to be set on a copy of a slice from a DataFrame.\n",
            "Try using .loc[row_indexer,col_indexer] = value instead\n",
            "\n",
            "See the caveats in the documentation: https://pandas.pydata.org/pandas-docs/stable/user_guide/indexing.html#returning-a-view-versus-a-copy\n",
            "  \"\"\"Entry point for launching an IPython kernel.\n",
            "/usr/local/lib/python3.7/dist-packages/ipykernel_launcher.py:2: SettingWithCopyWarning: \n",
            "A value is trying to be set on a copy of a slice from a DataFrame.\n",
            "Try using .loc[row_indexer,col_indexer] = value instead\n",
            "\n",
            "See the caveats in the documentation: https://pandas.pydata.org/pandas-docs/stable/user_guide/indexing.html#returning-a-view-versus-a-copy\n",
            "  \n"
          ]
        }
      ]
    },
    {
      "cell_type": "markdown",
      "source": [
        "Combine all the crimes into hours and days and zip codes"
      ],
      "metadata": {
        "id": "---SweK1IyvB"
      }
    },
    {
      "cell_type": "code",
      "source": [
        "day_time_zip_17 = day_time_zip_17[['DayOfWeek', 'zip', 'Hour']]"
      ],
      "metadata": {
        "id": "6tdgvgvMIN2O"
      },
      "execution_count": 39,
      "outputs": []
    },
    {
      "cell_type": "code",
      "source": [
        "day_time_zip_17['Crimes'] = 1"
      ],
      "metadata": {
        "id": "8H9E5w7FI4Bu"
      },
      "execution_count": 40,
      "outputs": []
    },
    {
      "cell_type": "code",
      "source": [
        "hour_totals_17 = day_time_zip_17.groupby(['DayOfWeek', 'zip', 'Hour']).count().reset_index()"
      ],
      "metadata": {
        "id": "ux0dvx2cI4Ee"
      },
      "execution_count": 41,
      "outputs": []
    },
    {
      "cell_type": "code",
      "source": [
        "hour_totals_17.sort_values('Crimes', ascending = False).head()"
      ],
      "metadata": {
        "colab": {
          "base_uri": "https://localhost:8080/",
          "height": 206
        },
        "id": "5Bq7_LUiI4HF",
        "outputId": "9557f46a-cda8-46b7-ef7d-0a34ba7ed063"
      },
      "execution_count": 42,
      "outputs": [
        {
          "output_type": "execute_result",
          "data": {
            "text/plain": [
              "      DayOfWeek    zip  Hour  Crimes\n",
              "41       Friday  94103    17     265\n",
              "650      Monday  94103    17     258\n",
              "2482   Thursday  94103    18     257\n",
              "3699  Wednesday  94103    18     257\n",
              "42       Friday  94103    18     253"
            ],
            "text/html": [
              "\n",
              "  <div id=\"df-9eb03793-3c7e-42e0-905f-40f34cbe531b\">\n",
              "    <div class=\"colab-df-container\">\n",
              "      <div>\n",
              "<style scoped>\n",
              "    .dataframe tbody tr th:only-of-type {\n",
              "        vertical-align: middle;\n",
              "    }\n",
              "\n",
              "    .dataframe tbody tr th {\n",
              "        vertical-align: top;\n",
              "    }\n",
              "\n",
              "    .dataframe thead th {\n",
              "        text-align: right;\n",
              "    }\n",
              "</style>\n",
              "<table border=\"1\" class=\"dataframe\">\n",
              "  <thead>\n",
              "    <tr style=\"text-align: right;\">\n",
              "      <th></th>\n",
              "      <th>DayOfWeek</th>\n",
              "      <th>zip</th>\n",
              "      <th>Hour</th>\n",
              "      <th>Crimes</th>\n",
              "    </tr>\n",
              "  </thead>\n",
              "  <tbody>\n",
              "    <tr>\n",
              "      <th>41</th>\n",
              "      <td>Friday</td>\n",
              "      <td>94103</td>\n",
              "      <td>17</td>\n",
              "      <td>265</td>\n",
              "    </tr>\n",
              "    <tr>\n",
              "      <th>650</th>\n",
              "      <td>Monday</td>\n",
              "      <td>94103</td>\n",
              "      <td>17</td>\n",
              "      <td>258</td>\n",
              "    </tr>\n",
              "    <tr>\n",
              "      <th>2482</th>\n",
              "      <td>Thursday</td>\n",
              "      <td>94103</td>\n",
              "      <td>18</td>\n",
              "      <td>257</td>\n",
              "    </tr>\n",
              "    <tr>\n",
              "      <th>3699</th>\n",
              "      <td>Wednesday</td>\n",
              "      <td>94103</td>\n",
              "      <td>18</td>\n",
              "      <td>257</td>\n",
              "    </tr>\n",
              "    <tr>\n",
              "      <th>42</th>\n",
              "      <td>Friday</td>\n",
              "      <td>94103</td>\n",
              "      <td>18</td>\n",
              "      <td>253</td>\n",
              "    </tr>\n",
              "  </tbody>\n",
              "</table>\n",
              "</div>\n",
              "      <button class=\"colab-df-convert\" onclick=\"convertToInteractive('df-9eb03793-3c7e-42e0-905f-40f34cbe531b')\"\n",
              "              title=\"Convert this dataframe to an interactive table.\"\n",
              "              style=\"display:none;\">\n",
              "        \n",
              "  <svg xmlns=\"http://www.w3.org/2000/svg\" height=\"24px\"viewBox=\"0 0 24 24\"\n",
              "       width=\"24px\">\n",
              "    <path d=\"M0 0h24v24H0V0z\" fill=\"none\"/>\n",
              "    <path d=\"M18.56 5.44l.94 2.06.94-2.06 2.06-.94-2.06-.94-.94-2.06-.94 2.06-2.06.94zm-11 1L8.5 8.5l.94-2.06 2.06-.94-2.06-.94L8.5 2.5l-.94 2.06-2.06.94zm10 10l.94 2.06.94-2.06 2.06-.94-2.06-.94-.94-2.06-.94 2.06-2.06.94z\"/><path d=\"M17.41 7.96l-1.37-1.37c-.4-.4-.92-.59-1.43-.59-.52 0-1.04.2-1.43.59L10.3 9.45l-7.72 7.72c-.78.78-.78 2.05 0 2.83L4 21.41c.39.39.9.59 1.41.59.51 0 1.02-.2 1.41-.59l7.78-7.78 2.81-2.81c.8-.78.8-2.07 0-2.86zM5.41 20L4 18.59l7.72-7.72 1.47 1.35L5.41 20z\"/>\n",
              "  </svg>\n",
              "      </button>\n",
              "      \n",
              "  <style>\n",
              "    .colab-df-container {\n",
              "      display:flex;\n",
              "      flex-wrap:wrap;\n",
              "      gap: 12px;\n",
              "    }\n",
              "\n",
              "    .colab-df-convert {\n",
              "      background-color: #E8F0FE;\n",
              "      border: none;\n",
              "      border-radius: 50%;\n",
              "      cursor: pointer;\n",
              "      display: none;\n",
              "      fill: #1967D2;\n",
              "      height: 32px;\n",
              "      padding: 0 0 0 0;\n",
              "      width: 32px;\n",
              "    }\n",
              "\n",
              "    .colab-df-convert:hover {\n",
              "      background-color: #E2EBFA;\n",
              "      box-shadow: 0px 1px 2px rgba(60, 64, 67, 0.3), 0px 1px 3px 1px rgba(60, 64, 67, 0.15);\n",
              "      fill: #174EA6;\n",
              "    }\n",
              "\n",
              "    [theme=dark] .colab-df-convert {\n",
              "      background-color: #3B4455;\n",
              "      fill: #D2E3FC;\n",
              "    }\n",
              "\n",
              "    [theme=dark] .colab-df-convert:hover {\n",
              "      background-color: #434B5C;\n",
              "      box-shadow: 0px 1px 3px 1px rgba(0, 0, 0, 0.15);\n",
              "      filter: drop-shadow(0px 1px 2px rgba(0, 0, 0, 0.3));\n",
              "      fill: #FFFFFF;\n",
              "    }\n",
              "  </style>\n",
              "\n",
              "      <script>\n",
              "        const buttonEl =\n",
              "          document.querySelector('#df-9eb03793-3c7e-42e0-905f-40f34cbe531b button.colab-df-convert');\n",
              "        buttonEl.style.display =\n",
              "          google.colab.kernel.accessAllowed ? 'block' : 'none';\n",
              "\n",
              "        async function convertToInteractive(key) {\n",
              "          const element = document.querySelector('#df-9eb03793-3c7e-42e0-905f-40f34cbe531b');\n",
              "          const dataTable =\n",
              "            await google.colab.kernel.invokeFunction('convertToInteractive',\n",
              "                                                     [key], {});\n",
              "          if (!dataTable) return;\n",
              "\n",
              "          const docLinkHtml = 'Like what you see? Visit the ' +\n",
              "            '<a target=\"_blank\" href=https://colab.research.google.com/notebooks/data_table.ipynb>data table notebook</a>'\n",
              "            + ' to learn more about interactive tables.';\n",
              "          element.innerHTML = '';\n",
              "          dataTable['output_type'] = 'display_data';\n",
              "          await google.colab.output.renderOutput(dataTable, element);\n",
              "          const docLink = document.createElement('div');\n",
              "          docLink.innerHTML = docLinkHtml;\n",
              "          element.appendChild(docLink);\n",
              "        }\n",
              "      </script>\n",
              "    </div>\n",
              "  </div>\n",
              "  "
            ]
          },
          "metadata": {},
          "execution_count": 42
        }
      ]
    },
    {
      "cell_type": "markdown",
      "source": [
        "Create dummy variables to start doing analysis"
      ],
      "metadata": {
        "id": "I5bbBtBnJCbD"
      }
    },
    {
      "cell_type": "code",
      "source": [
        "hour_totals_17 = hour_totals_17[['Crimes', 'Hour', 'DayOfWeek', 'zip']]"
      ],
      "metadata": {
        "id": "SOIe2uLYI4Kh"
      },
      "execution_count": 43,
      "outputs": []
    },
    {
      "cell_type": "code",
      "source": [
        "totals_dummies_17 = pd.get_dummies(hour_totals_17)"
      ],
      "metadata": {
        "id": "DZioR1D6JDbk"
      },
      "execution_count": 44,
      "outputs": []
    },
    {
      "cell_type": "code",
      "source": [
        "X_17 = totals_dummies_17.iloc[:, 1:]\n",
        "y_17 = totals_dummies_17.iloc[:, 0]"
      ],
      "metadata": {
        "id": "fMBQb44aJDeL"
      },
      "execution_count": 45,
      "outputs": []
    },
    {
      "cell_type": "markdown",
      "source": [
        "Testing the different models"
      ],
      "metadata": {
        "id": "a1dX6sXAJO9E"
      }
    },
    {
      "cell_type": "markdown",
      "source": [
        "Linear Regression"
      ],
      "metadata": {
        "id": "Ud60ShT7JRWE"
      }
    },
    {
      "cell_type": "code",
      "source": [
        "linear_regression = LinearRegression()\n",
        "linear_regression.fit(X_16,y_16)\n",
        "linear_regression.score(X_17, y_17)"
      ],
      "metadata": {
        "colab": {
          "base_uri": "https://localhost:8080/"
        },
        "id": "6AYFJrJrJDgJ",
        "outputId": "17be5851-1471-4e5b-fcc5-076d966eae69"
      },
      "execution_count": 46,
      "outputs": [
        {
          "output_type": "execute_result",
          "data": {
            "text/plain": [
              "0.6932512654661083"
            ]
          },
          "metadata": {},
          "execution_count": 46
        }
      ]
    },
    {
      "cell_type": "markdown",
      "source": [
        "Random Forest"
      ],
      "metadata": {
        "id": "stYWOePrJX2x"
      }
    },
    {
      "cell_type": "code",
      "source": [
        "rf = RandomForestRegressor()\n",
        "rf.fit(X_16, y_16)\n",
        "rf.score(X_17,y_17)"
      ],
      "metadata": {
        "colab": {
          "base_uri": "https://localhost:8080/"
        },
        "id": "lz2NeKL5JDi2",
        "outputId": "2f661ae5-f324-4400-8a83-75525310f70d"
      },
      "execution_count": 47,
      "outputs": [
        {
          "output_type": "execute_result",
          "data": {
            "text/plain": [
              "0.8622797648108718"
            ]
          },
          "metadata": {},
          "execution_count": 47
        }
      ]
    },
    {
      "cell_type": "code",
      "source": [
        "list(zip(X_16.columns, rf.feature_importances_))"
      ],
      "metadata": {
        "colab": {
          "base_uri": "https://localhost:8080/"
        },
        "id": "gu2tiYalJDlt",
        "outputId": "e20e2c14-c953-4f49-ce64-75d9c770e3e7"
      },
      "execution_count": 48,
      "outputs": [
        {
          "output_type": "execute_result",
          "data": {
            "text/plain": [
              "[('Hour', 0.26304598979272015),\n",
              " ('DayOfWeek_Friday', 0.007171022777810932),\n",
              " ('DayOfWeek_Monday', 0.004651946479828277),\n",
              " ('DayOfWeek_Saturday', 0.009215558514418937),\n",
              " ('DayOfWeek_Sunday', 0.008722975661071816),\n",
              " ('DayOfWeek_Thursday', 0.00502659905628364),\n",
              " ('DayOfWeek_Tuesday', 0.004516648918352077),\n",
              " ('DayOfWeek_Wednesday', 0.004405554562729137),\n",
              " ('zip_94102', 0.09332257005568759),\n",
              " ('zip_94103', 0.34516419247016517),\n",
              " ('zip_94104', 0.009717973403998442),\n",
              " ('zip_94105', 0.0013839033791336463),\n",
              " ('zip_94107', 0.010093211756233272),\n",
              " ('zip_94108', 0.0008156477399485836),\n",
              " ('zip_94109', 0.04937418397676023),\n",
              " ('zip_94110', 0.09142816853031945),\n",
              " ('zip_94111', 0.0007951803841648792),\n",
              " ('zip_94112', 0.007475231356186101),\n",
              " ('zip_94114', 0.0038350140620893062),\n",
              " ('zip_94115', 0.006696302070734035),\n",
              " ('zip_94116', 0.0008358875838793166),\n",
              " ('zip_94117', 0.006260627611523984),\n",
              " ('zip_94118', 0.0008917162227224825),\n",
              " ('zip_94121', 0.0006349973329777431),\n",
              " ('zip_94122', 0.002075276157304772),\n",
              " ('zip_94123', 0.000789672073667843),\n",
              " ('zip_94124', 0.019433742644587214),\n",
              " ('zip_94127', 0.008837852017969071),\n",
              " ('zip_94130', 0.009376450526265807),\n",
              " ('zip_94131', 0.003095058701144574),\n",
              " ('zip_94132', 0.0005604974608450929),\n",
              " ('zip_94133', 0.010082148236487733),\n",
              " ('zip_94134', 0.000699489332845273),\n",
              " ('zip_94158', 0.009568709149143359)]"
            ]
          },
          "metadata": {},
          "execution_count": 48
        }
      ]
    },
    {
      "cell_type": "markdown",
      "source": [
        "KNN"
      ],
      "metadata": {
        "id": "CM2qUZmoJhHw"
      }
    },
    {
      "cell_type": "code",
      "source": [
        "knn = KNeighborsRegressor()\n",
        "knn.fit(X_16, y_16)\n",
        "knn.score(X_17,y_17)"
      ],
      "metadata": {
        "colab": {
          "base_uri": "https://localhost:8080/"
        },
        "id": "vL8HuJNJJDoZ",
        "outputId": "1f2ff0c2-de23-4dba-9985-c6735c6e4d87"
      },
      "execution_count": 49,
      "outputs": [
        {
          "output_type": "execute_result",
          "data": {
            "text/plain": [
              "0.6622766098379327"
            ]
          },
          "metadata": {},
          "execution_count": 49
        }
      ]
    },
    {
      "cell_type": "markdown",
      "source": [
        "SVM"
      ],
      "metadata": {
        "id": "u3gr0ksYJ6kB"
      }
    },
    {
      "cell_type": "code",
      "source": [
        "svm = SVR()\n",
        "svm.fit(X_16, y_16)\n",
        "svm.score(X_17,y_17)"
      ],
      "metadata": {
        "colab": {
          "base_uri": "https://localhost:8080/"
        },
        "id": "hhicm-ltJDrB",
        "outputId": "3f724026-6ff8-419e-82d2-af63b6d3c804"
      },
      "execution_count": 50,
      "outputs": [
        {
          "output_type": "execute_result",
          "data": {
            "text/plain": [
              "-0.029567402122195663"
            ]
          },
          "metadata": {},
          "execution_count": 50
        }
      ]
    },
    {
      "cell_type": "markdown",
      "source": [
        "XGBoost"
      ],
      "metadata": {
        "id": "O-OEN8WWKB0b"
      }
    },
    {
      "cell_type": "code",
      "source": [
        "xgb = XGBRegressor()\n",
        "xgb.fit(X_16, y_16)\n",
        "xgb.score(X_17,y_17)"
      ],
      "metadata": {
        "colab": {
          "base_uri": "https://localhost:8080/"
        },
        "id": "az71Fn67J-gi",
        "outputId": "8008808c-28a6-4e6f-fe52-95bfbe96cef4"
      },
      "execution_count": 51,
      "outputs": [
        {
          "output_type": "stream",
          "name": "stdout",
          "text": [
            "[22:35:03] WARNING: /workspace/src/objective/regression_obj.cu:152: reg:linear is now deprecated in favor of reg:squarederror.\n"
          ]
        },
        {
          "output_type": "execute_result",
          "data": {
            "text/plain": [
              "0.80944233735405"
            ]
          },
          "metadata": {},
          "execution_count": 51
        }
      ]
    },
    {
      "cell_type": "markdown",
      "source": [
        "MLP Regressor"
      ],
      "metadata": {
        "id": "GeK93AHbKJNd"
      }
    },
    {
      "cell_type": "code",
      "source": [
        "mlp = MLPRegressor(hidden_layer_sizes = (100,100,100,100), random_state=444)\n",
        "mlp.fit(X_16,y_16)"
      ],
      "metadata": {
        "colab": {
          "base_uri": "https://localhost:8080/"
        },
        "id": "i21D0BsVKKpv",
        "outputId": "5ff50fcf-cf95-4ee2-f16d-1f221d7e3e8c"
      },
      "execution_count": 52,
      "outputs": [
        {
          "output_type": "execute_result",
          "data": {
            "text/plain": [
              "MLPRegressor(hidden_layer_sizes=(100, 100, 100, 100), random_state=444)"
            ]
          },
          "metadata": {},
          "execution_count": 52
        }
      ]
    },
    {
      "cell_type": "code",
      "source": [
        "mlp.score(X_17, y_17)"
      ],
      "metadata": {
        "colab": {
          "base_uri": "https://localhost:8080/"
        },
        "id": "5C9DdBK6KKxA",
        "outputId": "9f59070d-e99d-4b53-9fa6-6985d768c984"
      },
      "execution_count": 53,
      "outputs": [
        {
          "output_type": "execute_result",
          "data": {
            "text/plain": [
              "0.8324168277203203"
            ]
          },
          "metadata": {},
          "execution_count": 53
        }
      ]
    },
    {
      "cell_type": "markdown",
      "source": [
        "Combine predictions and actual results into one dataframe"
      ],
      "metadata": {
        "id": "IkoHwnc8KV-M"
      }
    },
    {
      "cell_type": "code",
      "source": [
        "mlp_predicts = mlp.predict(X_16)"
      ],
      "metadata": {
        "id": "-LiBsY-OKKzF"
      },
      "execution_count": 54,
      "outputs": []
    },
    {
      "cell_type": "code",
      "source": [
        "xgb_predicts = xgb.predict(X_16)"
      ],
      "metadata": {
        "id": "Gw3hwlDlKK2o"
      },
      "execution_count": 55,
      "outputs": []
    },
    {
      "cell_type": "code",
      "source": [
        "hour_totals_17['Predicted_mlp'] = pd.Series(mlp_predicts)\n",
        "hour_totals_17['Predicted_xgb'] = pd.Series(xgb_predicts)"
      ],
      "metadata": {
        "id": "zdsWvokWKK-L"
      },
      "execution_count": 56,
      "outputs": []
    },
    {
      "cell_type": "markdown",
      "source": [
        "Divide by 365 to get the number of crime incidents each day"
      ],
      "metadata": {
        "id": "TqJmCRLvKjEx"
      }
    },
    {
      "cell_type": "code",
      "source": [
        "hour_totals_17['Crimes'] = hour_totals_17['Crimes']/365\n",
        "hour_totals_17['Predicted_mlp'] = hour_totals_17['Predicted_mlp']/365\n",
        "hour_totals_17['Predicted_xgb'] = hour_totals_17['Predicted_xgb']/365"
      ],
      "metadata": {
        "id": "IyG_xznmKLAk"
      },
      "execution_count": 57,
      "outputs": []
    },
    {
      "cell_type": "code",
      "source": [
        "hour_totals_17 = np.round(hour_totals_17,2)"
      ],
      "metadata": {
        "id": "MiKKKSAkKLEh"
      },
      "execution_count": 58,
      "outputs": []
    },
    {
      "cell_type": "code",
      "source": [
        "hour_totals_17.to_json(\"https://raw.githubusercontent.com/orlandott/Predictive_Policing/master/crime_predictions.json\", orient='records', double_precision=2)"
      ],
      "metadata": {
        "id": "sY1KI73TKovZ"
      },
      "execution_count": 59,
      "outputs": []
    },
    {
      "cell_type": "markdown",
      "source": [
        "Create a quick Chloropleth map as a sanity check"
      ],
      "metadata": {
        "id": "LYGJFF5yK4Nw"
      }
    },
    {
      "cell_type": "code",
      "source": [
        "chloropleth_data = hour_totals_17.merge(sf)\n",
        "chloropleth_data = geopandas.GeoDataFrame(chloropleth_data, geometry='geometry')\n",
        "chloropleth_data.crs = {'init': 'epsg:4326'}"
      ],
      "metadata": {
        "colab": {
          "base_uri": "https://localhost:8080/"
        },
        "id": "Ywsen8hCKoss",
        "outputId": "986b2120-3649-4ccb-a708-8b192676b960"
      },
      "execution_count": 60,
      "outputs": [
        {
          "output_type": "stream",
          "name": "stderr",
          "text": [
            "/usr/local/lib/python3.7/site-packages/pyproj/crs/crs.py:68: FutureWarning: '+init=<authority>:<code>' syntax is deprecated. '<authority>:<code>' is the preferred initialization method. When making the change, be mindful of axis order changes: https://pyproj4.github.io/pyproj/stable/gotchas.html#axis-order-changes-in-proj-6\n",
            "  return _prepare_from_string(\" \".join(pjargs))\n"
          ]
        }
      ]
    },
    {
      "cell_type": "code",
      "source": [
        "chloropleth_data.plot(column='Crimes', cmap='OrRd', figsize=(13,10))"
      ],
      "metadata": {
        "colab": {
          "base_uri": "https://localhost:8080/",
          "height": 609
        },
        "id": "GVHjOa-eKopx",
        "outputId": "5e9b2c5b-a386-401a-953e-cf44b26aaf9d"
      },
      "execution_count": 61,
      "outputs": [
        {
          "output_type": "execute_result",
          "data": {
            "text/plain": [
              "<matplotlib.axes._subplots.AxesSubplot at 0x7f92dca1a090>"
            ]
          },
          "metadata": {},
          "execution_count": 61
        },
        {
          "output_type": "display_data",
          "data": {
            "text/plain": [
              "<Figure size 936x720 with 1 Axes>"
            ],
            "image/png": "[encoded data removed]"
          },
          "metadata": {
            "needs_background": "light"
          }
        }
      ]
    }
  ]
}